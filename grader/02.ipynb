{
 "cells": [
  {
   "attachments": {},
   "cell_type": "markdown",
   "metadata": {},
   "source": [
    "##### [02_StrList_01] 02-StrLst_★_CitizenID\n",
    "[Description](https://2110101.nattee.net/python/tasks/download/840/02_StrList_01.pdf)"
   ]
  },
  {
   "cell_type": "code",
   "execution_count": null,
   "metadata": {},
   "outputs": [],
   "source": [
    "def check_digit(n):\n",
    "  return (11 - \\\n",
    "  (13*int(n[0])+12*int(n[1])+11*int(n[2])+10*int(n[3])+9*int(n[4])+8*int(n[5])+7*int(n[6])+6*int(n[7])+5*int(n[8])+4*int(n[9])+3*int(n[10])+2*int(n[11]))\\\n",
    "  % 11) % 10\n",
    "czid = input()\n",
    "print(czid[0], czid[1:5], czid[5:10], czid[10:12], check_digit(czid))"
   ]
  },
  {
   "attachments": {},
   "cell_type": "markdown",
   "metadata": {},
   "source": [
    "-----"
   ]
  },
  {
   "attachments": {},
   "cell_type": "markdown",
   "metadata": {},
   "source": [
    "##### [02_StrList_02] 02-StrLst_★_Arabic_Numerals\n",
    "[Description](https://2110101.nattee.net/python/tasks/download/841/02_StrList_02.pdf)"
   ]
  },
  {
   "cell_type": "code",
   "execution_count": null,
   "metadata": {},
   "outputs": [],
   "source": [
    "def number_name(n):\n",
    "    l = ['zero', 'one', 'two', 'three', 'four', 'five', 'six', 'seven', 'eight', 'nine']\n",
    "    return l[int(n)]\n",
    "    \n",
    "n = input()\n",
    "print(n, '-->', number_name(n))"
   ]
  },
  {
   "attachments": {},
   "cell_type": "markdown",
   "metadata": {},
   "source": [
    "-----"
   ]
  },
  {
   "attachments": {},
   "cell_type": "markdown",
   "metadata": {},
   "source": [
    "##### [02_StrList_03] 02-StrLst_★_USDate\n",
    "[Description](https://2110101.nattee.net/python/tasks/download/842/02_StrList_03.pdf)"
   ]
  },
  {
   "cell_type": "code",
   "execution_count": null,
   "metadata": {},
   "outputs": [],
   "source": [
    "def number_name_month(n):\n",
    "    l = ['January', 'February', 'March', 'April', 'May', 'June', 'July', 'August', 'September', 'October', 'November', 'December']\n",
    "    return l[int(n)-1]\n",
    "    \n",
    "day, month, year = input().split('/')\n",
    "print(number_name_month(month), day + ',', year)"
   ]
  },
  {
   "attachments": {},
   "cell_type": "markdown",
   "metadata": {},
   "source": [
    "-----"
   ]
  },
  {
   "attachments": {},
   "cell_type": "markdown",
   "metadata": {},
   "source": [
    "##### [02_StrList_04] 02-StrLst_★_NDigits\n",
    "[Description](https://2110101.nattee.net/python/tasks/download/843/02_StrList_04.pdf)"
   ]
  },
  {
   "cell_type": "code",
   "execution_count": null,
   "metadata": {},
   "outputs": [],
   "source": [
    "M, N = input(), int(input())\n",
    "print('0' * max(N - len(M), 0) + M)"
   ]
  },
  {
   "attachments": {},
   "cell_type": "markdown",
   "metadata": {},
   "source": [
    "-----"
   ]
  },
  {
   "attachments": {},
   "cell_type": "markdown",
   "metadata": {},
   "source": [
    "##### [02_StrList_05] 02-StrLst_★_WeeklySales\n",
    "[Description](https://2110101.nattee.net/python/tasks/download/844/02_StrList_05.pdf)"
   ]
  },
  {
   "cell_type": "code",
   "execution_count": null,
   "metadata": {},
   "outputs": [],
   "source": [
    "print(sum([int(e) for e in input().split()]))"
   ]
  },
  {
   "attachments": {},
   "cell_type": "markdown",
   "metadata": {},
   "source": [
    "-----"
   ]
  },
  {
   "attachments": {},
   "cell_type": "markdown",
   "metadata": {},
   "source": [
    "##### [02_StrList_06] 02-StrLst_★★_AddVector\n",
    "[Description](https://2110101.nattee.net/python/tasks/download/845/02_StrList_06.pdf)"
   ]
  },
  {
   "cell_type": "code",
   "execution_count": null,
   "metadata": {},
   "outputs": [],
   "source": [
    "def add_vector(u, v):\n",
    "    return [u[0] + v[0], u[1] + v[1], u[2] + v[2]]\n",
    "    \n",
    "u = [float(e) for e in input()[1:-1].split(', ')]\n",
    "v = [float(e) for e in input()[1:-1].split(', ')]\n",
    "print(u, '+', v, '=', add_vector(u, v))"
   ]
  },
  {
   "attachments": {},
   "cell_type": "markdown",
   "metadata": {},
   "source": [
    "-----"
   ]
  },
  {
   "attachments": {},
   "cell_type": "markdown",
   "metadata": {},
   "source": [
    "##### [02_StrList_07] 02-StrLst_★★★_Decryption\n",
    "[Description](https://2110101.nattee.net/python/tasks/download/846/02_StrList_07.pdf)"
   ]
  },
  {
   "cell_type": "code",
   "execution_count": null,
   "metadata": {},
   "outputs": [],
   "source": [
    "s = input()\n",
    "yellow = ''.join([e for e in s[3::7]])\n",
    "blue = ''.join([e for e in s[7::5]])\n",
    "pink = str(int(yellow) + int(blue) + 10000)[-4:-1]\n",
    "blue = sum([int(e) for e in pink]) % 10 + 1\n",
    "print(pink+chr(ord('A') - 1 + blue))"
   ]
  },
  {
   "attachments": {},
   "cell_type": "markdown",
   "metadata": {},
   "source": [
    "-----"
   ]
  },
  {
   "attachments": {},
   "cell_type": "markdown",
   "metadata": {},
   "source": [
    "##### [02_StrList_08] 02-StrLst_★★★_Decimal2Fraction\n",
    "[Description](https://2110101.nattee.net/python/tasks/download/1038/02_StrList_08.pdf)"
   ]
  },
  {
   "cell_type": "code",
   "execution_count": null,
   "metadata": {},
   "outputs": [],
   "source": [
    "import math\n",
    "    \n",
    "def maximize(d, f, r):\n",
    "    d, f, r = int(d), int(f + r) - int(f if f != '' else 0), int('9' * len(r) + '0' * len(f))\n",
    "    # print(d, f, r)\n",
    "    return d, f, r\n",
    "    \n",
    "def dec2frac(d, f, r):\n",
    "    numerator, denominator = d * r + f, r\n",
    "    # print(numerator, denominator)\n",
    "    return numerator, denominator\n",
    "\n",
    "def minimize(a, b):\n",
    "    a, b = a // math.gcd(a, b), b // math.gcd(a, b)\n",
    "    # print(a, b)\n",
    "    return a, b\n",
    "\n",
    "d, f, r = [e for e in input().split(',')]\n",
    "d, f, r = maximize(d, f, r)\n",
    "numerator, denominator = dec2frac(d, f, r)\n",
    "numerator, denominator = minimize(numerator, denominator)\n",
    "print(numerator, '/', denominator)"
   ]
  },
  {
   "attachments": {},
   "cell_type": "markdown",
   "metadata": {},
   "source": [
    "-----"
   ]
  },
  {
   "attachments": {},
   "cell_type": "markdown",
   "metadata": {},
   "source": [
    "##### [02_StrList_F01] 02-StrLst_★_CitizenID (Function)\n",
    "[Description](https://2110101.nattee.net/python/tasks/download/1198/02_StrList_F01.pdf)"
   ]
  },
  {
   "cell_type": "code",
   "execution_count": null,
   "metadata": {},
   "outputs": [],
   "source": [
    "def check_digit(n):\n",
    "  return (11 - \\\n",
    "  (13*int(n[0])+12*int(n[1])+11*int(n[2])+10*int(n[3])+9*int(n[4])+8*int(n[5])+7*int(n[6])+6*int(n[7])+5*int(n[8])+4*int(n[9])+3*int(n[10])+2*int(n[11]))\\\n",
    "  % 11) % 10\n",
    "exec(input()) # DON'T remove this line"
   ]
  },
  {
   "attachments": {},
   "cell_type": "markdown",
   "metadata": {},
   "source": [
    "-----"
   ]
  },
  {
   "attachments": {},
   "cell_type": "markdown",
   "metadata": {},
   "source": [
    "##### [02_StrList_F02] 02-StrLst_★_Arabic_Numerals (Function)\n",
    "[Description](https://2110101.nattee.net/python/tasks/download/1199/02_StrList_F02.pdf)"
   ]
  },
  {
   "cell_type": "code",
   "execution_count": null,
   "metadata": {},
   "outputs": [],
   "source": [
    "def number_name(n):\n",
    "    l = ['zero', 'one', 'two', 'three', 'four', 'five', 'six', 'seven', 'eight', 'nine']\n",
    "    return l[int(n)]\n",
    "    \n",
    "exec(input()) # DON'T remove this line"
   ]
  },
  {
   "attachments": {},
   "cell_type": "markdown",
   "metadata": {},
   "source": [
    "-----"
   ]
  },
  {
   "attachments": {},
   "cell_type": "markdown",
   "metadata": {},
   "source": [
    "##### [02_StrList_F06] 02-StrLst_★★_AddVector (Function)\n",
    "[Description](https://2110101.nattee.net/python/tasks/download/1200/02_StrList_F06.pdf)"
   ]
  },
  {
   "cell_type": "code",
   "execution_count": null,
   "metadata": {},
   "outputs": [],
   "source": [
    "def add_vector(u, v):\n",
    "    return [u[0] + v[0], u[1] + v[1], u[2] + v[2]]\n",
    "    \n",
    "exec(input()) # DON'T remove this line"
   ]
  },
  {
   "attachments": {},
   "cell_type": "markdown",
   "metadata": {},
   "source": [
    "-----"
   ]
  }
 ],
 "metadata": {
  "kernelspec": {
   "display_name": "Python 3",
   "language": "python",
   "name": "python3"
  },
  "language_info": {
   "codemirror_mode": {
    "name": "ipython",
    "version": 3
   },
   "file_extension": ".py",
   "mimetype": "text/x-python",
   "name": "python",
   "nbconvert_exporter": "python",
   "pygments_lexer": "ipython3",
   "version": "3.10.6"
  },
  "orig_nbformat": 4,
  "vscode": {
   "interpreter": {
    "hash": "aee8b7b246df8f9039afb4144a1f6fd8d2ca17a180786b69acc140d282b71a49"
   }
  }
 },
 "nbformat": 4,
 "nbformat_minor": 2
}
