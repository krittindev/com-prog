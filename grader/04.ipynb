{
   "cells": [
      {
         "attachments": {},
         "cell_type": "markdown",
         "metadata": {},
         "source": [
            "##### [04_Loop_001] 04_Loop_★★_BirthdayParadox\n",
            "[Description](https://2110101.nattee.net/python/tasks/download/874/04_Loop_001.pdf)"
         ]
      },
      {
         "cell_type": "code",
         "execution_count": null,
         "metadata": {},
         "outputs": [],
         "source": [
            "def get_birthday_paradox(p):\n",
            "    k = 1\n",
            "    t = 1\n",
            "    while True:\n",
            "        t = (t * (365 - (k - 1))) / 365\n",
            "        if not 1 - t >= p:\n",
            "            k += 1\n",
            "        else:\n",
            "            return k\n",
            "\n",
            "def test():\n",
            "    testcases = [0.0, 0.7]\n",
            "    solutions = [1, 30]\n",
            "    for i in range(len(testcases)):\n",
            "        print(\"{:5} {:5} {:12}\".format(\\\n",
            "            get_birthday_paradox(testcases[i]), \\\n",
            "            solutions[i], \\\n",
            "            \"✅\" if get_birthday_paradox(testcases[i]) == solutions[i] else \"❌\" \\\n",
            "        ))\n",
            "# test()\n",
            "print(get_birthday_paradox(float(input())))"
         ]
      },
      {
         "cell_type": "markdown",
         "metadata": {},
         "source": [
            "---\n"
         ]
      },
      {
         "attachments": {},
         "cell_type": "markdown",
         "metadata": {},
         "source": [
            "##### [04_Loop_002] 04_Loop_★★_Partition\n",
            "[Description](https://2110101.nattee.net/python/tasks/download/875/04_Loop_002.pdf)"
         ]
      },
      {
         "cell_type": "code",
         "execution_count": null,
         "metadata": {},
         "outputs": [],
         "source": [
            "def get_partition(d):\n",
            "    p = d[-1]\n",
            "    i = -1; j = 0\n",
            "    n = len(d)\n",
            "    while j < n - 1:\n",
            "        if d[j] <= p:\n",
            "            i += 1\n",
            "            d[i], d[j] = d[j], d[i]\n",
            "        j += 1\n",
            "    d[i + 1], d[-1] = d[-1], d[i + 1]\n",
            "    return d\n",
            "\n",
            "def test():\n",
            "    testcases = [[1, 2, 3, 4, 5], [5, 4, 3, 2, 1], [9, 2, 7, 1, 6, 8, 4, 5]]\n",
            "    solutions = [[1, 2, 3, 4, 5], [1, 4, 3, 2, 5], [2, 1, 4, 5, 6, 8, 7, 9]]\n",
            "    for i in range(len(testcases)):\n",
            "        print(\"{:5} {:5} {:12}\".format(\\\n",
            "            str(get_partition(testcases[i])), \\\n",
            "            str(solutions[i]), \\\n",
            "            \"✅\" if get_partition(testcases[i]) == solutions[i] else \"❌\" \\\n",
            "        ))\n",
            "# test()\n",
            "d = [int(e) for e in input().split()]\n",
            "print(get_partition(d))"
         ]
      },
      {
         "attachments": {},
         "cell_type": "markdown",
         "metadata": {},
         "source": [
            "##### [04_Loop_01] 04_Loop_★_Average\n",
            "[Description](https://2110101.nattee.net/python/tasks/download/864/04_Loop_01.pdf)"
         ]
      },
      {
         "cell_type": "code",
         "execution_count": null,
         "metadata": {},
         "outputs": [],
         "source": [
            "l = []\n",
            "while True:\n",
            "    n = input()\n",
            "    if n != 'q':\n",
            "        l.append(float(n))\n",
            "    else:\n",
            "        break\n",
            "if len(l) == 0:\n",
            "    print(\"No Data\")\n",
            "else:\n",
            "    print(round(sum(l) / len(l), 2))"
         ]
      },
      {
         "attachments": {},
         "cell_type": "markdown",
         "metadata": {},
         "source": [
            "##### [04_Loop_02] 04_Loop_★_Bisection_Log10\n",
            "[Description](https://2110101.nattee.net/python/tasks/download/865/04_Loop_02.pdf)"
         ]
      },
      {
         "cell_type": "code",
         "execution_count": null,
         "metadata": {},
         "outputs": [],
         "source": [
            "def get_bisection_log_10(a):\n",
            "    L = 0\n",
            "    U = a\n",
            "    x = (L + U) / 2\n",
            "    while abs(a - 10**x) > 1e-10 * max(a, 10**x):\n",
            "        if 10**x > a:\n",
            "            U = x\n",
            "        else:\n",
            "            L = x\n",
            "        x = (L + U) / 2\n",
            "    return round(x, 6) # approximate 6 digits\n",
            "\n",
            "def test():\n",
            "    testcases = [1.0, 100.0, 250.0, 500.0] # real number 1 -> 600\n",
            "    solutions = [0.0, 2.0, 2.39794, 2.69897]\n",
            "    for i in range(len(testcases)):\n",
            "        print(\"{:5} {:5} {:12}\".format(\\\n",
            "            str(get_bisection_log_10(testcases[i])), \\\n",
            "            str(solutions[i]), \\\n",
            "            \"✅\" if get_bisection_log_10(testcases[i]) == solutions[i] else \"❌\" \\\n",
            "        ))\n",
            "\n",
            "# test()\n",
            "a = float(input()) # real number 1 -> 600\n",
            "print(get_bisection_log_10(a))"
         ]
      },
      {
         "cell_type": "markdown",
         "metadata": {},
         "source": [
            "---\n"
         ]
      },
      {
         "attachments": {},
         "cell_type": "markdown",
         "metadata": {},
         "source": [
            "##### [04_Loop_03] 04_Loop_★_MCQ\n",
            "[Description](https://2110101.nattee.net/python/tasks/download/866/04_Loop_03.pdf)"
         ]
      },
      {
         "cell_type": "code",
         "execution_count": null,
         "metadata": {},
         "outputs": [],
         "source": [
            "def get_mcq(solution, answer):\n",
            "    if len(solution) != len(answer):\n",
            "        return \"Incomplete answer\"\n",
            "    score = sum([1 if solution[i] == answer[i]\n",
            "                else 0 for i in range(len(solution))])\n",
            "    return score\n",
            "\n",
            "\n",
            "def test():\n",
            "    testcases = [\n",
            "        [\n",
            "            \"AAABC\",\n",
            "            \"AABCC\"\n",
            "        ],\n",
            "        [\n",
            "            \"AAAAAAAAAAAAAAAAAAAAAAA\",\n",
            "            \"BBBXXBBBBB BBBBB BBBBBB\"\n",
            "        ],\n",
            "        [\n",
            "            \"AAAAAAAAAAAAAAAAAAAAAAAAAAAAA\",\n",
            "            \"AAAAAAAAAAAA\"\n",
            "        ]\n",
            "    ]\n",
            "    solutions = [\n",
            "        3,\n",
            "        0,\n",
            "        \"Incomplete answer\"\n",
            "    ]\n",
            "    for i in range(len(testcases)):\n",
            "        testcase = get_mcq(testcases[i][0], testcases[i][1])\n",
            "        solution = solutions[i]\n",
            "        print(\"{:5} {:5} {:12}\".format(\n",
            "            str(testcase),\n",
            "            str(solution),\n",
            "            \"✅\" if testcase == solution else \"❌\"\n",
            "        ))\n",
            "\n",
            "# test()\n",
            "solution, answer = input(), input()\n",
            "print(get_mcq(solution, answer))"
         ]
      },
      {
         "cell_type": "markdown",
         "metadata": {},
         "source": [
            "---\n"
         ]
      },
      {
         "attachments": {},
         "cell_type": "markdown",
         "metadata": {},
         "source": [
            "##### [04_Loop_04] 04_Loop_★_Parentheses\n",
            "[Description](https://2110101.nattee.net/python/tasks/download/867/04_Loop_04.pdf)"
         ]
      },
      {
         "cell_type": "code",
         "execution_count": null,
         "metadata": {},
         "outputs": [],
         "source": [
            "def get_parentheses(text):\n",
            "    result = ''\n",
            "    for i in range(len(text)):\n",
            "        if text[i] == '(':\n",
            "            result += '['\n",
            "        elif text[i] == '[':\n",
            "            result += '('\n",
            "        elif text[i] == ']':\n",
            "            result += ')'\n",
            "        elif text[i] == ')':\n",
            "            result += ']'\n",
            "        else:\n",
            "            result += text[i]\n",
            "    return result\n",
            "\n",
            "def test():\n",
            "    testcases = [\n",
            "        \"[[a + (b + [c / d] – e) + f] + 4]\", \n",
            "        \"no parentheses\"\n",
            "    ]\n",
            "    solutions = [\n",
            "        \"((a + [b + (c / d) – e] + f) + 4)\", \n",
            "        \"no parentheses\"\n",
            "    ]\n",
            "    for i in range(len(testcases)):\n",
            "        testcase = get_parentheses(testcases[i])\n",
            "        solution = solutions[i]\n",
            "        print(\"{:5} {:5} {:12}\".format(\n",
            "            str(testcase),\n",
            "            str(solution),\n",
            "            \"✅\" if testcase == solution else \"❌\"\n",
            "        ))\n",
            "\n",
            "# test()\n",
            "text = input()\n",
            "print(get_parentheses(text))"
         ]
      },
      {
         "cell_type": "markdown",
         "metadata": {},
         "source": [
            "---\n"
         ]
      },
      {
         "attachments": {},
         "cell_type": "markdown",
         "metadata": {},
         "source": [
            "##### [04_Loop_05] 04_Loop_★_CountWord\n",
            "[Description](https://2110101.nattee.net/python/tasks/download/868/04_Loop_05.pdf)"
         ]
      },
      {
         "cell_type": "code",
         "execution_count": null,
         "metadata": {},
         "outputs": [],
         "source": [
            "def get_count_word(word, text):\n",
            "    words = ''.join(e if e not in \"\\\"(),.'\" else ' ' for e in text).split()\n",
            "    return words.count(word)\n",
            "\n",
            "def test():\n",
            "    testcases = [\n",
            "        [\n",
            "            \"the\",\n",
            "            \"The word \\\"the\\\" is one of the most common words in English.\"\n",
            "        ],\n",
            "        [\n",
            "            \"Sadet\",\n",
            "            \"\\\"Phra Sadet\\\" tham \\\"Phra Sadet\\\" wa ja sadet rue mai sadet.\"\n",
            "        ],\n",
            "        [\n",
            "            \"ABC\",\n",
            "            \"(\\\"ABC aABC AABC ABCAB CABC d ABC k abc ABC\\\" kjdk abc asd 'ABC ajdsABCkjas  ABC' ABC abc ABC ABC ABC ABCABC...ABC\"\n",
            "        ]\n",
            "    ]\n",
            "    solutions = [\n",
            "        2,\n",
            "        2,\n",
            "        10\n",
            "    ]\n",
            "    for i in range(len(testcases)):\n",
            "        testcase = get_count_word(testcases[i][0], testcases[i][1])\n",
            "        solution = solutions[i]\n",
            "        print(\"{:5} {:5} {:12}\".format(\n",
            "            str(testcase),\n",
            "            str(solution),\n",
            "            \"✅\" if testcase == solution else \"❌\"\n",
            "        ))\n",
            "\n",
            "test()\n",
            "# word, text = input(), input()\n",
            "# print(get_count_word(word, text))"
         ]
      },
      {
         "cell_type": "markdown",
         "metadata": {},
         "source": [
            "---\n"
         ]
      },
      {
         "attachments": {},
         "cell_type": "markdown",
         "metadata": {},
         "source": [
            "##### [04_Loop_06] 04_Loop_★★_PrintTriangle\n",
            "[Description](https://2110101.nattee.net/python/tasks/download/869/04_Loop_06.pdf)"
         ]
      },
      {
         "cell_type": "code",
         "execution_count": null,
         "metadata": {},
         "outputs": [],
         "source": [
            "def print_triangle(h):\n",
            "    print('.' * (h - 1) + '*')\n",
            "    for i in range(h - 2):\n",
            "        print('.' * (h - i - 2) + '*' + '.' * (i * 2 + 1) + '*')\n",
            "    print('*' * (h * 2 - 1))\n",
            "\n",
            "def test():\n",
            "    print_triangle(2)\n",
            "    print_triangle(3)\n",
            "    print_triangle(4)\n",
            "\n",
            "# test()\n",
            "h = int(input())\n",
            "print_triangle(h)"
         ]
      },
      {
         "cell_type": "markdown",
         "metadata": {},
         "source": [
            "---\n"
         ]
      },
      {
         "attachments": {},
         "cell_type": "markdown",
         "metadata": {},
         "source": [
            "##### [04_Loop_10] 04_Loop_★★_Bisection_Log10_2\n",
            "[Description](https://2110101.nattee.net/python/tasks/download/870/04_Loop_10.pdf)"
         ]
      },
      {
         "cell_type": "code",
         "execution_count": null,
         "metadata": {},
         "outputs": [],
         "source": [
            "def get_bisection_log_10_2(a):\n",
            "    c = 0\n",
            "    temp_a = a\n",
            "    while temp_a != 0:\n",
            "        temp_a //= 10\n",
            "        c += 1\n",
            "    L = 0\n",
            "    U = c\n",
            "    x = (L + U) / 2\n",
            "    while abs(a - 10**x) > 1e-10 * max(a, 10**x):\n",
            "        if 10**x > a:\n",
            "            U = x\n",
            "        else:\n",
            "            L = x\n",
            "        x = (L + U) / 2\n",
            "    return round(x, 6) # approximate 6 digits\n",
            "\n",
            "def test():\n",
            "    testcases = [1, 100, 100000000, 123456] # real number 1 -> 600\n",
            "    solutions = [0.0, 2.0, 8.0, 5.091512]\n",
            "    for i in range(len(testcases)):\n",
            "        print(\"{:5} {:5} {:12}\".format(\\\n",
            "            str(get_bisection_log_10_2(testcases[i])), \\\n",
            "            str(solutions[i]), \\\n",
            "            \"✅\" if get_bisection_log_10_2(testcases[i]) == solutions[i] else \"❌\" \\\n",
            "        ))\n",
            "\n",
            "# test()\n",
            "a = float(input()) # real number 1 -> 600\n",
            "print(get_bisection_log_10_2(a))"
         ]
      },
      {
         "cell_type": "markdown",
         "metadata": {},
         "source": [
            "---\n"
         ]
      },
      {
         "attachments": {},
         "cell_type": "markdown",
         "metadata": {},
         "source": [
            "##### [04_Loop_11] 04_Loop_★★_RLE\n",
            "[Description](https://2110101.nattee.net/python/tasks/download/871/04_Loop_11.pdf)"
         ]
      },
      {
         "cell_type": "code",
         "execution_count": null,
         "metadata": {},
         "outputs": [],
         "source": [
            "def get_rle(text):\n",
            "    l = [text[0]]\n",
            "    temp_c = text[0]\n",
            "    sum = 1\n",
            "    for e in text[1:]:\n",
            "        if e == temp_c:\n",
            "            sum += 1\n",
            "        if e != temp_c:\n",
            "            l.append(sum)\n",
            "            l.append(e)\n",
            "            temp_c = e\n",
            "            sum = 1\n",
            "    l.append(sum)\n",
            "    return ' '.join([str(e) for e in l])\n",
            "\n",
            "def test():\n",
            "    testcases = [\"zzzZZZZZZZZZZZZZZZZZZZZZZZZZZ\", \"ABBA\"]\n",
            "    solutions = [\"z 3 Z 26\", \"A 1 B 2 A 1\"]\n",
            "    for i in range(len(testcases)):\n",
            "        print(\"{:5} {:5} {:12}\".format(\\\n",
            "            str(get_rle(testcases[i])), \\\n",
            "            str(solutions[i]), \\\n",
            "            \"✅\" if get_rle(testcases[i]) == solutions[i] else \"❌\" \\\n",
            "        ))\n",
            "\n",
            "# test()\n",
            "text = input()\n",
            "print(get_rle(text))"
         ]
      },
      {
         "cell_type": "markdown",
         "metadata": {},
         "source": [
            "---\n"
         ]
      },
      {
         "attachments": {},
         "cell_type": "markdown",
         "metadata": {},
         "source": [
            "##### [04_Loop_12] 04_Loop_★★_ZigZag_1\n",
            "[Description](https://2110101.nattee.net/python/tasks/download/872/04_Loop_12.pdf)"
         ]
      },
      {
         "cell_type": "code",
         "execution_count": null,
         "metadata": {},
         "outputs": [],
         "source": [
            "class Point():\n",
            "    def __init__(self, x, y):\n",
            "        self.x = x\n",
            "        self.y = y\n",
            "n = int(input())\n",
            "points = []\n",
            "for _ in range(n):\n",
            "    x, y = [int(e) for e in input().split()]\n",
            "    points.append(Point(x, y))\n",
            "order = input()\n",
            "if order == \"Zig-Zag\":\n",
            "    zmin = min(points[i].x if i % 2 == 0 else points[i].y for i in range(len(points)))\n",
            "    zmax = max(points[i].x if i % 2 != 0 else points[i].y for i in range(len(points)))\n",
            "    print(zmin, zmax)\n",
            "elif order == \"Zag-Zig\":\n",
            "    zmin = min(points[i].x if i % 2 != 0 else points[i].y for i in range(len(points)))\n",
            "    zmax = max(points[i].x if i % 2 == 0 else points[i].y for i in range(len(points)))\n",
            "    print(zmin, zmax)\n"
         ]
      },
      {
         "cell_type": "markdown",
         "metadata": {},
         "source": [
            "---\n"
         ]
      },
      {
         "attachments": {},
         "cell_type": "markdown",
         "metadata": {},
         "source": [
            "##### [04_Loop_20] 04_Loop_★★★_ZigZag_2\n",
            "[Description](https://2110101.nattee.net/python/tasks/download/873/04_Loop_20.pdf)"
         ]
      },
      {
         "cell_type": "code",
         "execution_count": null,
         "metadata": {},
         "outputs": [],
         "source": [
            "zig_zag_min = 100\n",
            "zig_zag_max = -100\n",
            "zag_zig_min = 100\n",
            "zag_zig_max = -100\n",
            "is_zig = True\n",
            "while True:\n",
            "    s = input()\n",
            "    if ' ' in s: # input is pair of number\n",
            "        x, y = s.split()\n",
            "        if is_zig:\n",
            "            zig_zag_min = min(zig_zag_min, int(x))\n",
            "            zig_zag_max = max(zig_zag_max, int(y))\n",
            "            zag_zig_min = min(zag_zig_min, int(y))\n",
            "            zag_zig_max = max(zag_zig_max, int(x))\n",
            "            # print(is_zig, zig_zag_min, zig_zag_max, zag_zig_min, zag_zig_max)\n",
            "        else:\n",
            "            zag_zig_min = min(zag_zig_min, int(x))\n",
            "            zag_zig_max = max(zag_zig_max, int(y))\n",
            "            zig_zag_min = min(zig_zag_min, int(y))\n",
            "            zig_zag_max = max(zig_zag_max, int(x))\n",
            "            # print(is_zig, zig_zag_min, zig_zag_max, zag_zig_min, zag_zig_max)\n",
            "    if s == \"Zig-Zag\":\n",
            "        print(zig_zag_min, zig_zag_max)\n",
            "        break\n",
            "    elif s == \"Zag-Zig\":\n",
            "        print(zag_zig_min, zag_zig_max)\n",
            "        break\n",
            "    is_zig = not is_zig"
         ]
      },
      {
         "cell_type": "markdown",
         "metadata": {},
         "source": [
            "---\n"
         ]
      },
      {
         "attachments": {},
         "cell_type": "markdown",
         "metadata": {},
         "source": [
            "##### [04_Loop_F03] 04_Loop_★_MCQ (Function)\n",
            "[Description](https://2110101.nattee.net/python/tasks/download/1204/04_Loop_F03.pdf)"
         ]
      },
      {
         "cell_type": "code",
         "execution_count": null,
         "metadata": {},
         "outputs": [],
         "source": [
            "def grade_mcq(sol, ans):\n",
            "    if len(sol) != len(ans):\n",
            "        return -1\n",
            "    score = sum([1 if sol[i] == ans[i]\n",
            "                else 0 for i in range(len(sol))])\n",
            "    return score\n",
            "    \n",
            "exec(input()) # DON'T remove this line"
         ]
      },
      {
         "cell_type": "markdown",
         "metadata": {},
         "source": [
            "---\n"
         ]
      },
      {
         "attachments": {},
         "cell_type": "markdown",
         "metadata": {},
         "source": [
            "##### [04_Loop_F06] 04_Loop_★★_PrintTriangle (Function)\n",
            "[Description](https://2110101.nattee.net/python/tasks/download/1205/04_Loop_F06.pdf)"
         ]
      },
      {
         "cell_type": "code",
         "execution_count": null,
         "metadata": {},
         "outputs": [],
         "source": [
            "def print_triangle(h):\n",
            "    print('.' * (h - 1) + '*')\n",
            "    for i in range(h - 2):\n",
            "        print('.' * (h - i - 2) + '*' + '.' * (i * 2 + 1) + '*')\n",
            "    print('*' * (h * 2 - 1))\n",
            "    \n",
            "exec(input()) # DON'T remove this line"
         ]
      },
      {
         "cell_type": "markdown",
         "metadata": {},
         "source": [
            "---\n"
         ]
      },
      {
         "attachments": {},
         "cell_type": "markdown",
         "metadata": {},
         "source": [
            "##### [04_Loop_F11] 04_Loop_★★_RLE (Function)\n",
            "[Description](https://2110101.nattee.net/python/tasks/download/1206/04_Loop_F11.pdf)"
         ]
      },
      {
         "cell_type": "code",
         "execution_count": null,
         "metadata": {},
         "outputs": [],
         "source": [
            "def RLE(t):\n",
            "    l = []\n",
            "    temp_c = ''\n",
            "    sum = 0\n",
            "    for e in t:\n",
            "        if e == temp_c:\n",
            "            sum += 1\n",
            "        if e != temp_c:\n",
            "            if sum != 0:\n",
            "                l.append([temp_c, sum])\n",
            "            temp_c = e\n",
            "            sum = 1\n",
            "    if sum != 0:\n",
            "        l.append([temp_c, sum])\n",
            "    return l\n",
            "    \n",
            "exec(input()) # DON'T remove this line"
         ]
      },
      {
         "cell_type": "markdown",
         "metadata": {},
         "source": [
            "---\n"
         ]
      }
   ],
   "metadata": {
      "kernelspec": {
         "display_name": "Python 3",
         "language": "python",
         "name": "python3"
      },
      "language_info": {
         "codemirror_mode": {
            "name": "ipython",
            "version": 3
         },
         "file_extension": ".py",
         "mimetype": "text/x-python",
         "name": "python",
         "nbconvert_exporter": "python",
         "pygments_lexer": "ipython3",
         "version": "3.10.6"
      },
      "orig_nbformat": 4,
      "vscode": {
         "interpreter": {
            "hash": "aee8b7b246df8f9039afb4144a1f6fd8d2ca17a180786b69acc140d282b71a49"
         }
      }
   },
   "nbformat": 4,
   "nbformat_minor": 2
}
