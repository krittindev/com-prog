{
 "cells": [
  {
   "attachments": {},
   "cell_type": "markdown",
   "metadata": {},
   "source": [
    "##### [03_If_001] 03*If*★_Median5\n",
    "\n",
    "[Description](https://2110101.nattee.net/python/tasks/download/859/03_If_001.pdf)\n"
   ]
  },
  {
   "cell_type": "code",
   "execution_count": null,
   "metadata": {},
   "outputs": [],
   "source": [
    "def median_5(a, b, c, d, e):\n",
    "    if a > b:\n",
    "        a, b = b, a\n",
    "    if c > d:\n",
    "        c, d = d, c\n",
    "    if a > c:\n",
    "        b,d = d,b \n",
    "        c = a\n",
    "    a = e\n",
    "    if a > b:\n",
    "        a, b = b, a\n",
    "    if c > a:\n",
    "        b, d = d, b\n",
    "        a = c\n",
    "    if a > d:\n",
    "        return d\n",
    "    else:\n",
    "        return a\n",
    "\n",
    "a = int(input())\n",
    "b = int(input())\n",
    "c = int(input())\n",
    "d = int(input())\n",
    "e = int(input())\n",
    "print(median5(a, b, c, d, e))"
   ]
  },
  {
   "attachments": {},
   "cell_type": "markdown",
   "metadata": {},
   "source": [
    "---\n"
   ]
  },
  {
   "attachments": {},
   "cell_type": "markdown",
   "metadata": {},
   "source": [
    "##### [03_If_002] 03*If*★★_Next15Days\n",
    "\n",
    "[Description](https://2110101.nattee.net/python/tasks/download/860/03_If_002.pdf)\n"
   ]
  },
  {
   "cell_type": "code",
   "execution_count": null,
   "metadata": {},
   "outputs": [],
   "source": [
    "def next_15_days(d, m, y):\n",
    "    m30 = [4, 6, 9, 11]\n",
    "    y -= 543\n",
    "    n = 31\n",
    "    if m in m30:\n",
    "        n = 30\n",
    "    else:\n",
    "        if m == 2:\n",
    "            n = 28\n",
    "            if y % 400 == 0:\n",
    "                n = 29\n",
    "            if y % 4 == 0 and y % 100 != 0:\n",
    "                n = 29\n",
    "    d += 15\n",
    "    if d > n:\n",
    "        d -= n\n",
    "        m += 1\n",
    "    if m > 12:\n",
    "        m -= 12\n",
    "        y += 1\n",
    "    y += 543\n",
    "    return d, m, y\n",
    "\n",
    "def test():\n",
    "    test_cases = [\"1 1 2560\", \"31 12 2560\", \"28 2 2559\", \"28 2 2560\"]\n",
    "    for test_case in test_cases:\n",
    "        d, m, y = [int(e) for e in test_case.split()]\n",
    "        print('/'.join(str(e) for e in next_15_days(d, m, y)))\n",
    "\n",
    "# test()\n",
    "d, m, y = [int(e) for e in input().split()]\n",
    "print('/'.join(str(e) for e in next_15_days(d, m, y)))"
   ]
  },
  {
   "attachments": {},
   "cell_type": "markdown",
   "metadata": {},
   "source": [
    "---\n"
   ]
  },
  {
   "attachments": {},
   "cell_type": "markdown",
   "metadata": {},
   "source": [
    "##### [03_If_003] 03*If*★★_Flowchart01\n",
    "\n",
    "[Description](https://2110101.nattee.net/python/tasks/download/861/03_If_003.pdf)\n"
   ]
  },
  {
   "cell_type": "code",
   "execution_count": null,
   "metadata": {},
   "outputs": [],
   "source": [
    "def flowchart_01(a, b, c, d):\n",
    "    if a > b:\n",
    "        a, b = b, a\n",
    "        if d >= a:\n",
    "            if c > d:\n",
    "                c -= a\n",
    "        else:\n",
    "            c += a\n",
    "        b = a + c + d\n",
    "    else:\n",
    "        if c > a >= b:\n",
    "            d += a\n",
    "        if d > c:\n",
    "            b += 2\n",
    "        else:\n",
    "            b *= 2\n",
    "    return a, b, c, d\n",
    "\n",
    "def test():\n",
    "    test_cases = [\"1 2 3 4\", \"4 3 2 1\", \"2 2 2 2\", \"9 0 9 0\", \"3 2 1 4\"]\n",
    "    for test_case in test_cases:\n",
    "        a, b, c, d = [int(e) for e in test_case.split()]\n",
    "        print(' '.join(str(e) for e in flowchart_01(a, b, c, d)))\n",
    "\n",
    "test()\n",
    "# a, b, c, d = [int(e) for e in input().split()]\n",
    "# print(' '.join(str(e) for e in flowchart_01(a, b, c, d)))\n"
   ]
  },
  {
   "attachments": {},
   "cell_type": "markdown",
   "metadata": {},
   "source": [
    "---\n"
   ]
  },
  {
   "attachments": {},
   "cell_type": "markdown",
   "metadata": {},
   "source": [
    "##### [03_If_01] 03*If*★_FacultyCode\n",
    "\n",
    "[Description](https://2110101.nattee.net/python/tasks/download/851/03_If_01.pdf)\n"
   ]
  },
  {
   "cell_type": "code",
   "execution_count": null,
   "metadata": {},
   "outputs": [],
   "source": [
    "def faculty_code(id):\n",
    "    ids = [\"01\", \"02\", \"20\", \"21\", \"22\", \"23\", \"24\", \"25\", \"26\", \"27\", \"28\", \"29\", \"30\", \"31\", \"32\", \"33\", \"34\", \"35\", \"36\", \"37\", \"38\", \"39\", \"40\", \"51\", \"53\", \"55\", \"58\"]\n",
    "    return id in ids\n",
    "\n",
    "def test():\n",
    "    test_cases = [\"Engineering\", \"1\", \"10\", \"20000\", \"58\", \"01\"]\n",
    "    for id in test_cases:\n",
    "        print(\"OK\" if faculty_code(id) else \"Error\")\n",
    "\n",
    "test()\n",
    "# id = input()\n",
    "# print(\"OK\" if faculty_code(id) else \"Error\")"
   ]
  },
  {
   "attachments": {},
   "cell_type": "markdown",
   "metadata": {},
   "source": [
    "---\n"
   ]
  },
  {
   "attachments": {},
   "cell_type": "markdown",
   "metadata": {},
   "source": [
    "##### [03_If_02] 03*If*★★_Change_of_Major\n",
    "\n",
    "[Description](https://2110101.nattee.net/python/tasks/download/1142/03_If_02.pdf)\n"
   ]
  },
  {
   "cell_type": "code",
   "execution_count": null,
   "metadata": {},
   "outputs": [],
   "source": [
    "class Student:\n",
    "    def __init__(self, line):\n",
    "        id, gpax, com_prog_grade, cal1_grade, cal2_grade = line.split()\n",
    "        self.id = id\n",
    "        self.gpax = float(gpax)\n",
    "        self.com_prog_grade = com_prog_grade\n",
    "        self.cal1_grade = cal1_grade\n",
    "        self.cal2_grade = cal2_grade\n",
    "\n",
    "    def is_grade_pass(self):\n",
    "        return self.com_prog_grade == 'A' and self.cal1_grade <= 'C' and self.cal2_grade <= 'C'\n",
    "\n",
    "\n",
    "def select_students(a, b):\n",
    "    if not a.is_grade_pass() and not b.is_grade_pass():\n",
    "        print(\"None\")\n",
    "    elif a.is_grade_pass() and not b.is_grade_pass():\n",
    "        print(a.id)\n",
    "    elif not a.is_grade_pass() and b.is_grade_pass():\n",
    "        print(b.id)\n",
    "    else:\n",
    "        if a.gpax > b.gpax:\n",
    "            print(a.id)\n",
    "        elif a.gpax < b.gpax:\n",
    "            print(b.id)\n",
    "        else:\n",
    "            if a.cal1_grade < b.cal1_grade:\n",
    "                print(a.id)\n",
    "            elif a.cal1_grade > b.cal1_grade:\n",
    "                print(b.id)\n",
    "            else:\n",
    "                if a.cal2_grade < b.cal2_grade:\n",
    "                    print(a.id)\n",
    "                elif a.cal2_grade > b.cal2_grade:\n",
    "                    print(b.id)\n",
    "                else:\n",
    "                    print(\"Both\")\n",
    "\n",
    "def test():\n",
    "    test_cases = [\n",
    "        [\n",
    "            \"7039999921 2.8 B C C\",\n",
    "            \"7030000021 3.5 B A A\"\n",
    "        ],\n",
    "        [\n",
    "            \"7039999921 2.8 A C C\",\n",
    "            \"7030000021 3.5 B A A\"\n",
    "        ],\n",
    "        [\n",
    "            \"7030000021 3.2 A A D\",\n",
    "            \"7039999921 2.8 A C C\"\n",
    "        ],\n",
    "        [\n",
    "            \"7039999921 3.1 A B B\",\n",
    "            \"7030000021 3.0 A A A\"\n",
    "        ],\n",
    "        [\n",
    "            \"7039999921 3.1 A B B\",\n",
    "            \"7030000021 3.1 A C A\"\n",
    "        ],\n",
    "        [\n",
    "            \"7039999921 3.1 A C A\",\n",
    "            \"7030000021 3.1 A C C\"\n",
    "        ],\n",
    "        [\n",
    "            \"7039999921 3.1 A C B\",\n",
    "            \"7030000021 3.1 A C B\"\n",
    "        ]\n",
    "    ]\n",
    "    for test_case in test_cases:\n",
    "        a, b = [Student(line) for line in test_case]\n",
    "        select_students(a, b)\n",
    "\n",
    "\n",
    "# test()\n",
    "a, b = Student(input()), Student(input())\n",
    "select_students(a, b)\n"
   ]
  },
  {
   "attachments": {},
   "cell_type": "markdown",
   "metadata": {},
   "source": [
    "---\n"
   ]
  },
  {
   "attachments": {},
   "cell_type": "markdown",
   "metadata": {},
   "source": [
    "##### [03_If_03] 03*If*★_Gymnastic_Score\n",
    "\n",
    "[Description](https://2110101.nattee.net/python/tasks/download/853/03_If_03.pdf)\n"
   ]
  },
  {
   "cell_type": "code",
   "execution_count": null,
   "metadata": {},
   "outputs": [],
   "source": [
    "def find_max(l):\n",
    "    max_n = l[0]\n",
    "    for e in l[1:]:\n",
    "        if max_n < e:\n",
    "            max_n = e\n",
    "    return max_n\n",
    "\n",
    "def find_min(l):\n",
    "    min_n = l[0]\n",
    "    for e in l[1:]:\n",
    "        if min_n > e:\n",
    "            min_n = e\n",
    "    return min_n\n",
    "\n",
    "l = [float(e) for e in input().split()]\n",
    "print(round((sum(l) - find_max(l) - find_min(l)) / 2.0, 2))"
   ]
  },
  {
   "attachments": {},
   "cell_type": "markdown",
   "metadata": {},
   "source": [
    "---\n"
   ]
  },
  {
   "attachments": {},
   "cell_type": "markdown",
   "metadata": {},
   "source": [
    "##### [03_If_04] 03*If*★_MobileNumber\n",
    "\n",
    "[Description](https://2110101.nattee.net/python/tasks/download/854/03_If_04.pdf)\n"
   ]
  },
  {
   "cell_type": "code",
   "execution_count": null,
   "metadata": {},
   "outputs": [],
   "source": [
    "number = input()\n",
    "print(\"Mobile number\" if len(number) == 10 and number[0:2] in [\"06\", \"08\", \"09\"] else \"Not a mobile number\")"
   ]
  },
  {
   "attachments": {},
   "cell_type": "markdown",
   "metadata": {},
   "source": [
    "---\n"
   ]
  },
  {
   "attachments": {},
   "cell_type": "markdown",
   "metadata": {},
   "source": [
    "##### [03_If_05] 03*If*★_Positive_Negative\n",
    "\n",
    "[Description](https://2110101.nattee.net/python/tasks/download/855/03_If_05.pdf)\n"
   ]
  },
  {
   "cell_type": "code",
   "execution_count": null,
   "metadata": {},
   "outputs": [],
   "source": [
    "num = int(input())\n",
    "\n",
    "if num < 0:\n",
    "    print(\"negative\")\n",
    "elif num == 0:\n",
    "    print(\"zero\")\n",
    "else:\n",
    "    print(\"positive\")\n",
    "\n",
    "if num % 2 != 0:\n",
    "    print(\"odd\")\n",
    "else:\n",
    "    print(\"even\")"
   ]
  },
  {
   "attachments": {},
   "cell_type": "markdown",
   "metadata": {},
   "source": [
    "---\n"
   ]
  },
  {
   "attachments": {},
   "cell_type": "markdown",
   "metadata": {},
   "source": [
    "##### [03_If_06] 03*If*★_RegisteredMail\n",
    "\n",
    "[Description](https://2110101.nattee.net/python/tasks/download/856/03_If_06.pdf)\n"
   ]
  },
  {
   "cell_type": "code",
   "execution_count": null,
   "metadata": {},
   "outputs": [],
   "source": [
    "weight = int(input())\n",
    "\n",
    "if weight <= 100:\n",
    "    print(18)\n",
    "elif weight <= 250:\n",
    "    print(22)\n",
    "elif weight <= 500:\n",
    "    print(28)\n",
    "elif weight <= 1000:\n",
    "    print(38)\n",
    "elif weight <= 2000:\n",
    "    print(58)\n",
    "else:\n",
    "    print(\"Reject\")"
   ]
  },
  {
   "attachments": {},
   "cell_type": "markdown",
   "metadata": {},
   "source": [
    "---\n"
   ]
  },
  {
   "attachments": {},
   "cell_type": "markdown",
   "metadata": {},
   "source": [
    "##### [03_If_07] 03*If*★★_AbbrevNum\n",
    "\n",
    "[Description](https://2110101.nattee.net/python/tasks/download/857/03_If_07.pdf)\n"
   ]
  },
  {
   "cell_type": "code",
   "execution_count": null,
   "metadata": {},
   "outputs": [],
   "source": [
    "def abbrev_num(n):\n",
    "    K = 10**3\n",
    "    M = 10**6\n",
    "    B = 10**9\n",
    "    if n < K:\n",
    "        return n\n",
    "    elif n < K*10:\n",
    "        return \"{:.1f}K\".format(n / K)\n",
    "    elif n < M:\n",
    "        return \"{:.0f}K\".format(n / K)\n",
    "    elif n < M*10:\n",
    "        return \"{:.1f}M\".format(n / M)\n",
    "    elif n < B:\n",
    "        return \"{:.0f}M\".format(n / M)\n",
    "    elif n < B*10:\n",
    "        return \"{:.1f}B\".format(n / B)\n",
    "    else:\n",
    "        return \"{:.0f}B\".format(n / B)\n",
    "print(abbrev_num(int(input())))\n",
    "# print(abbrev_num(32))\n",
    "# print(abbrev_num(8456))\n",
    "# print(abbrev_num(84560))\n",
    "# print(abbrev_num(108283))\n",
    "# print(abbrev_num(2293910))\n",
    "# print(abbrev_num(12999995))\n",
    "# print(abbrev_num(580912391))\n",
    "# print(abbrev_num(1301008191))\n",
    "# print(abbrev_num(25555555555))\n",
    "# print(abbrev_num(2555555555555))"
   ]
  },
  {
   "attachments": {},
   "cell_type": "markdown",
   "metadata": {},
   "source": [
    "---\n"
   ]
  },
  {
   "attachments": {},
   "cell_type": "markdown",
   "metadata": {},
   "source": [
    "##### [03_If_08] 03*if*★★_DayOfYear\n",
    "\n",
    "[Description](https://2110101.nattee.net/python/tasks/download/858/03_If_08.pdf)\n"
   ]
  },
  {
   "cell_type": "code",
   "execution_count": null,
   "metadata": {},
   "outputs": [],
   "source": [
    "\n",
    "def is_leap_year(y):\n",
    "    result = False\n",
    "    if y % 400 == 0:\n",
    "        result = True\n",
    "    if y % 4 == 0 and y % 100 != 0:\n",
    "        result = True\n",
    "    return result\n",
    "\n",
    "def day_of_year(d, m, y):\n",
    "    y -= 543\n",
    "    days_of_months = [31, 29 if is_leap_year(y) else 28, 31, 30, 31, 30, 31, 31, 30, 31, 30, 31]\n",
    "    sum = 0\n",
    "    for i in range(m):\n",
    "        if i + 1 == m:\n",
    "            sum += d\n",
    "        else:\n",
    "            sum += days_of_months[i]\n",
    "    return sum\n",
    "# print( day_of_year(1, 1, 2559) )\n",
    "# print( day_of_year(31, 12, 2559) )\n",
    "# print( day_of_year(5, 12, 2560) )\n",
    "# print( day_of_year(31, 12, 2560) )\n",
    "exec(input()) # DON'T remove this line"
   ]
  },
  {
   "attachments": {},
   "cell_type": "markdown",
   "metadata": {},
   "source": [
    "---\n"
   ]
  },
  {
   "attachments": {},
   "cell_type": "markdown",
   "metadata": {},
   "source": [
    "##### [03_If_F02] 03*If*★★_Change_of_Major (Function)\n",
    "\n",
    "[Description](https://2110101.nattee.net/python/tasks/download/1201/03_If_F02.pdf)\n"
   ]
  },
  {
   "cell_type": "code",
   "execution_count": null,
   "metadata": {},
   "outputs": [],
   "source": [
    "class Student:\n",
    "    def __init__(self, id, gpax, com_prog_grade, cal1_grade, cal2_grade):\n",
    "        self.id = id\n",
    "        self.gpax = float(gpax)\n",
    "        self.com_prog_grade = com_prog_grade\n",
    "        self.cal1_grade = cal1_grade\n",
    "        self.cal2_grade = cal2_grade\n",
    "\n",
    "    def is_grade_pass(self):\n",
    "        return self.com_prog_grade == 'A' and self.cal1_grade <= 'C' and self.cal2_grade <= 'C'\n",
    "\n",
    "    def description(self):\n",
    "        return ' '.join([self.id, str(self.gpax), self.com_prog_grade, self.cal1_grade, self.cal2_grade])\n",
    "\n",
    "def choose(stu1, stu2): \n",
    "    stu1_id, stu1_gpax, stu1_com_prog_grade, stu1_cal1_grade, stu1_cal2_grade = stu1\n",
    "    stu2_id, stu2_gpax, stu2_com_prog_grade, stu2_cal1_grade, stu2_cal2_grade = stu2\n",
    "    a = Student(stu1_id, stu1_gpax, stu1_com_prog_grade, stu1_cal1_grade, stu1_cal2_grade)\n",
    "    b = Student(stu2_id, stu2_gpax, stu2_com_prog_grade, stu2_cal1_grade, stu2_cal2_grade)\n",
    "    # print(a.description(), b.description())\n",
    "    if not a.is_grade_pass() and not b.is_grade_pass():\n",
    "        return []\n",
    "    elif a.is_grade_pass() and not b.is_grade_pass():\n",
    "        return [a.id]\n",
    "    elif not a.is_grade_pass() and b.is_grade_pass():\n",
    "        return [b.id]\n",
    "    else:\n",
    "        if a.gpax > b.gpax:\n",
    "            return [a.id]\n",
    "        elif a.gpax < b.gpax:\n",
    "            return [b.id]\n",
    "        else:\n",
    "            if a.cal1_grade < b.cal1_grade:\n",
    "                return [a.id]\n",
    "            elif a.cal1_grade > b.cal1_grade:\n",
    "                return [b.id]\n",
    "            else:\n",
    "                if a.cal2_grade < b.cal2_grade:\n",
    "                    return [a.id]\n",
    "                elif a.cal2_grade > b.cal2_grade:\n",
    "                    return [b.id]\n",
    "                else:\n",
    "                    return [a.id, b.id]\n",
    "\n",
    "# print( choose(['7039999921',2.8,'B','C','C'], ['7030000021',3.5,'A','A','D']) )\n",
    "# print( choose(['7039999921',2.8,'A','C','C'], ['7030000021',3.5,'B','A','A']) )\n",
    "# print( choose(['7030000021',3.5,'A','A','D'], ['7039999921',2.8,'A','C','C']) )\n",
    "# print( choose(['7039999921',2.8,'A','C','C'], ['7030000021',2.7,'A','A','A']) )\n",
    "# print( choose(['7039999921',3.5,'A','B','B'], ['7030000021',3.5,'A','C','A']) )\n",
    "# print( choose(['7039999921',3.5,'A','B','B'], ['7030000021',3.5,'A','B','C']) )\n",
    "# print( choose(['7039999921',3.5,'A','B','A'], ['7030000021',3.5,'A','B','A']) )\n",
    "exec(input()) # DON'T remove this line"
   ]
  },
  {
   "attachments": {},
   "cell_type": "markdown",
   "metadata": {},
   "source": [
    "---\n"
   ]
  },
  {
   "attachments": {},
   "cell_type": "markdown",
   "metadata": {},
   "source": [
    "##### [03_If_F04] 03*If*★_MobileNumber (Function)\n",
    "\n",
    "[Description](https://2110101.nattee.net/python/tasks/download/1202/03_If_F04.pdf)\n"
   ]
  },
  {
   "cell_type": "code",
   "execution_count": null,
   "metadata": {},
   "outputs": [],
   "source": [
    "\n",
    "def is_mobile_number(number):\n",
    "    return True if len(number) == 10 and number[0:2] in [\"06\", \"08\", \"09\"] else False\n",
    "exec(input()) # DON'T remove this line"
   ]
  },
  {
   "attachments": {},
   "cell_type": "markdown",
   "metadata": {},
   "source": [
    "---\n"
   ]
  },
  {
   "attachments": {},
   "cell_type": "markdown",
   "metadata": {},
   "source": [
    "##### [03_If_F08] 03*if*★★_DayOfYear (Function)\n",
    "\n",
    "[Description](https://2110101.nattee.net/python/tasks/download/1203/03_If_F08.pdf)\n"
   ]
  },
  {
   "cell_type": "code",
   "execution_count": null,
   "metadata": {},
   "outputs": [],
   "source": [
    "\n",
    "def is_leap_year(y):\n",
    "    result = False\n",
    "    if y % 400 == 0:\n",
    "        result = True\n",
    "    if y % 4 == 0 and y % 100 != 0:\n",
    "        result = True\n",
    "    return result\n",
    "\n",
    "def day_of_year(d, m, y):\n",
    "    y -= 543\n",
    "    days_of_months = [31, 29 if is_leap_year(y) else 28, 31, 30, 31, 30, 31, 31, 30, 31, 30, 31]\n",
    "    sum = 0\n",
    "    for i in range(m):\n",
    "        if i + 1 == m:\n",
    "            sum += d\n",
    "        else:\n",
    "            sum += days_of_months[i]\n",
    "    return sum\n",
    "d, m, y = [int(input()) for _ in range(3)]\n",
    "print(day_of_year(d, m, y))"
   ]
  },
  {
   "attachments": {},
   "cell_type": "markdown",
   "metadata": {},
   "source": [
    "---\n"
   ]
  },
  {
   "attachments": {},
   "cell_type": "markdown",
   "metadata": {},
   "source": [
    "##### [03_if_004] 03*If*★_Grading\n",
    "\n",
    "[Description](https://2110101.nattee.net/python/tasks/download/852/03_If_02.pdf)\n"
   ]
  },
  {
   "cell_type": "code",
   "execution_count": null,
   "metadata": {},
   "outputs": [],
   "source": [
    "s = float(input())\n",
    "if s >= 80:\n",
    "    print(\"A\")\n",
    "elif s >= 70:\n",
    "    print(\"B\")\n",
    "elif s >= 60:\n",
    "    print(\"C\")\n",
    "elif s >= 50:\n",
    "    print(\"D\")\n",
    "else:\n",
    "    print(\"F\")"
   ]
  },
  {
   "attachments": {},
   "cell_type": "markdown",
   "metadata": {},
   "source": [
    "---\n"
   ]
  }
 ],
 "metadata": {
  "kernelspec": {
   "display_name": "Python 3",
   "language": "python",
   "name": "python3"
  },
  "language_info": {
   "codemirror_mode": {
    "name": "ipython",
    "version": 3
   },
   "file_extension": ".py",
   "mimetype": "text/x-python",
   "name": "python",
   "nbconvert_exporter": "python",
   "pygments_lexer": "ipython3",
   "version": "3.10.6"
  },
  "orig_nbformat": 4,
  "vscode": {
   "interpreter": {
    "hash": "aee8b7b246df8f9039afb4144a1f6fd8d2ca17a180786b69acc140d282b71a49"
   }
  }
 },
 "nbformat": 4,
 "nbformat_minor": 2
}
