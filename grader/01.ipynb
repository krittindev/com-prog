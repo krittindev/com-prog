{
 "cells": [
  {
   "attachments": {},
   "cell_type": "markdown",
   "metadata": {},
   "source": [
    "##### [01_Expr_01] 01_Expr_★_Stirling_Factorial\n",
    "[Description](https://2110101.nattee.net/python/tasks/download/834/01_Expr_01.pdf)"
   ]
  },
  {
   "cell_type": "code",
   "execution_count": null,
   "metadata": {},
   "outputs": [],
   "source": [
    "import math\n",
    "\n",
    "def lower_bound(n):\n",
    "  a = math.sqrt(2 * math.pi) \n",
    "  b = n ** (n + 1 / 2)\n",
    "  c = math.e ** (-n + 1 / (12 * n + 1))\n",
    "  return a * b * c\n",
    "  \n",
    "def upper_bound(n):\n",
    "  a = math.sqrt(2 * math.pi) \n",
    "  b = n ** (n + 1 / 2)\n",
    "  c = math.e ** (-n + 1 / (12 * n))\n",
    "  return a * b * c\n",
    "\n",
    "n = float(input())\n",
    "print(lower_bound(n))\n",
    "print(upper_bound(n))"
   ]
  },
  {
   "attachments": {},
   "cell_type": "markdown",
   "metadata": {},
   "source": [
    "-----"
   ]
  },
  {
   "attachments": {},
   "cell_type": "markdown",
   "metadata": {},
   "source": [
    "##### [01_Expr_02] 01_Expr_★_Quadratic_Root\n",
    "[Description](https://2110101.nattee.net/python/tasks/download/835/01_Expr_02.pdf)"
   ]
  },
  {
   "cell_type": "code",
   "execution_count": null,
   "metadata": {},
   "outputs": [],
   "source": [
    "import math\n",
    "\n",
    "def first_root(a, b, c):\n",
    "    numerator = -b - math.sqrt(b ** 2 - 4 * a * c)\n",
    "    denominator = 2 * a\n",
    "    return round(numerator / denominator, 3)\n",
    "def second_root(a, b, c):\n",
    "    numerator = -b + math.sqrt(b ** 2 - 4 * a * c)\n",
    "    denominator = 2 * a\n",
    "    return round(numerator / denominator, 3)\n",
    "\n",
    "a = float(input())\n",
    "b = float(input())\n",
    "c = float(input())\n",
    "\n",
    "print(first_root(a, b, c), second_root(a, b, c))"
   ]
  },
  {
   "attachments": {},
   "cell_type": "markdown",
   "metadata": {},
   "source": [
    "-----"
   ]
  },
  {
   "attachments": {},
   "cell_type": "markdown",
   "metadata": {},
   "source": [
    "##### [01_Expr_03] 01_Expr_★★_An_Expression\n",
    "[Description](https://2110101.nattee.net/python/tasks/download/836/01_Expr_03.pdf)"
   ]
  },
  {
   "cell_type": "code",
   "execution_count": null,
   "metadata": {},
   "outputs": [],
   "source": [
    "import math\n",
    "a = math.pi\n",
    "b = math.factorial(10) / (8 ** 8)\n",
    "c = math.log(9.7)\n",
    "d = (7 / math.sqrt(71)) - math.sin(math.radians(40))\n",
    "e = 1.2 ** (2.3 ** (1/3))\n",
    "print(round((a - b + c ** d) / e, 6))"
   ]
  },
  {
   "attachments": {},
   "cell_type": "markdown",
   "metadata": {},
   "source": [
    "-----"
   ]
  },
  {
   "attachments": {},
   "cell_type": "markdown",
   "metadata": {},
   "source": [
    "##### [01_Expr_04] 01_Expr_★★_Body_Surface_Area\n",
    "[Description](https://2110101.nattee.net/python/tasks/download/837/01_Expr_04.pdf)"
   ]
  },
  {
   "cell_type": "code",
   "execution_count": null,
   "metadata": {},
   "outputs": [],
   "source": [
    "import math\n",
    "\n",
    "def mosteller(w, h):\n",
    "  return math.sqrt(w * h) / 60\n",
    "def haycock(w, h):\n",
    "  return 0.024265 * w ** 0.5378 * h ** 0.3964\n",
    "def boyd(w, h):\n",
    "  return 0.0333 * w ** (0.6157 - 0.0188 * math.log(w, 10)) * h ** 0.3\n",
    "\n",
    "w = float(input())\n",
    "h = float(input())\n",
    "\n",
    "print(mosteller(w, h))\n",
    "print(haycock(w, h))\n",
    "print(boyd(w, h))"
   ]
  },
  {
   "attachments": {},
   "cell_type": "markdown",
   "metadata": {},
   "source": [
    "-----"
   ]
  },
  {
   "attachments": {},
   "cell_type": "markdown",
   "metadata": {},
   "source": [
    "##### [01_Expr_06] 01_Expr_★★★_Duration\n",
    "[Description](https://2110101.nattee.net/python/tasks/download/839/01_Expr_06.pdf)"
   ]
  },
  {
   "cell_type": "code",
   "execution_count": null,
   "metadata": {},
   "outputs": [],
   "source": [
    "h1 = int(input())\n",
    "m1 = int(input())\n",
    "s1 = int(input())\n",
    "h2 = int(input())\n",
    "m2 = int(input())\n",
    "s2 = int(input())\n",
    "t1 = h1*60*60 + m1*60 + s1\n",
    "t2 = h2*60*60 + m2*60 + s2\n",
    "dt = t2 - t1\n",
    "dh = dt // (60*60)\n",
    "dt -= dh * 60*60\n",
    "dm = dt // 60\n",
    "dt -= dm*60\n",
    "ds = dt\n",
    "print(str(dh % 24)+\":\"+str(dm % 60)+\":\"+str(ds % 60))"
   ]
  },
  {
   "attachments": {},
   "cell_type": "markdown",
   "metadata": {},
   "source": [
    "-----"
   ]
  },
  {
   "attachments": {},
   "cell_type": "markdown",
   "metadata": {},
   "source": [
    "##### [01_Expr_07] 01_Expr_★_Body_Surface_Area (Function)\n",
    "[Description](https://2110101.nattee.net/python/tasks/download/1173/01_Expr_07.pdf)"
   ]
  },
  {
   "cell_type": "code",
   "execution_count": null,
   "metadata": {},
   "outputs": [],
   "source": [
    "def mosteller(w, h):\n",
    "  return ((w*h)**0.5) / 60\n",
    "  \n",
    "def du_bois(w, h):\n",
    "  return 0.007184 * (w**0.425) * (h**0.725)\n",
    "  \n",
    "def fujimoto(w, h):\n",
    "  return 0.008883 * (w**0.444) * (h**0.663)\n",
    "  \n",
    "def main():\n",
    "  weight = float(input())\n",
    "  height = float(input())\n",
    "  print(\"Mosteller =\", round(mosteller(weight, height), 5)) \n",
    "  print(\"Du Bois =\", round(du_bois(weight, height), 5)) \n",
    "  print(\"Fujimoto =\", round(fujimoto(weight, height), 5))\n",
    "\n",
    "exec(input()) # DON'T remove this line"
   ]
  },
  {
   "attachments": {},
   "cell_type": "markdown",
   "metadata": {},
   "source": [
    "-----"
   ]
  },
  {
   "attachments": {},
   "cell_type": "markdown",
   "metadata": {},
   "source": [
    "##### [01_Expr_08] 01_Expr_★★_Cube_Root (Function)\n",
    "[Description](https://2110101.nattee.net/python/tasks/download/1174/01_Expr_08.pdf)"
   ]
  },
  {
   "cell_type": "code",
   "execution_count": null,
   "metadata": {},
   "outputs": [],
   "source": [
    "import math\n",
    "\n",
    "def sqrt_n_times(x, n): \n",
    "    # คืนน่าที่เสมือนการนำค่าใน x มากดปุ่ม sqrt เป็นจำนวน n ครั้ง\n",
    "    if n == 1:\n",
    "        return math.sqrt(x)\n",
    "    return math.sqrt(sqrt_n_times(x, n - 1))\n",
    "    \n",
    "def cube_root(y):\n",
    "    # คืนค่าประมาณของรากที่สามของ y โดยใช้วิธีที่เสมือนการกดปุ่มด้วยสูตร\n",
    "    # y^(1/2^2)(1+1/2^2)(1+1/2^4)(1+1/2^8)(1+1/2^16)(1+1/2^32)\n",
    "    # ข้อแนะนำ : เรียกใช้ฟังก์ชัน sqrt_n_times\n",
    "    y = sqrt_n_times(y, 2)\n",
    "    y *= sqrt_n_times(y, 2)\n",
    "    y *= sqrt_n_times(y, 4)\n",
    "    y *= sqrt_n_times(y, 8)\n",
    "    y *= sqrt_n_times(y, 16)\n",
    "    y *= sqrt_n_times(y, 32)\n",
    "    return y\n",
    "    \n",
    "def main():\n",
    "    q = float(input()) \n",
    "    print(cube_root(q))\n",
    "    \n",
    "exec(input()) # DON'T remove this line"
   ]
  },
  {
   "attachments": {},
   "cell_type": "markdown",
   "metadata": {},
   "source": [
    "-----"
   ]
  },
  {
   "attachments": {},
   "cell_type": "markdown",
   "metadata": {},
   "source": [
    "##### [01_Expr_09] 01_Expr_★★_Duration (Function)\n",
    "[Description](https://2110101.nattee.net/python/tasks/download/1175/01_Expr_09.pdf)"
   ]
  },
  {
   "cell_type": "code",
   "execution_count": null,
   "metadata": {},
   "outputs": [],
   "source": [
    "def str2hms(hms_str):\n",
    "\tt = hms_str.split(':')\n",
    "\treturn int(t[0]),int(t[1]),int(t[2])\n",
    "def hms2str(h,m,s):\n",
    "\treturn ('0'+str(h))[-2:] + ':' + ('0'+str(m))[-2:] + ':' + ('0'+str(s))[-2:]\n",
    "def to_sec(h,m,s):\n",
    "\treturn h * 60 ** 2 + m * 60 + s\n",
    "def to_hms(s):\n",
    "\treturn s // 60**2, (s % 60**2) // 60, s % 60\n",
    "def diff(h1,m1,s1,h2,m2,s2):\n",
    "\treturn to_hms(abs(to_sec(h1, m1, s1) - to_sec(h2, m2, s2)))\n",
    "def main():\n",
    "\thms_start = input()\n",
    "\thms_end = input()\n",
    "\th1,m1,s1 = str2hms(hms_start)\n",
    "\th2,m2,s2 = str2hms(hms_end)\n",
    "\th, m, s = diff(h1,m1,s1,h2,m2,s2)\n",
    "\tprint(hms2str(h, m, s))\n",
    "exec(input()) # DON'T remove this line"
   ]
  },
  {
   "attachments": {},
   "cell_type": "markdown",
   "metadata": {},
   "source": [
    "-----"
   ]
  }
 ],
 "metadata": {
  "kernelspec": {
   "display_name": "Python 3",
   "language": "python",
   "name": "python3"
  },
  "language_info": {
   "codemirror_mode": {
    "name": "ipython",
    "version": 3
   },
   "file_extension": ".py",
   "mimetype": "text/x-python",
   "name": "python",
   "nbconvert_exporter": "python",
   "pygments_lexer": "ipython3",
   "version": "3.10.6"
  },
  "orig_nbformat": 4,
  "vscode": {
   "interpreter": {
    "hash": "aee8b7b246df8f9039afb4144a1f6fd8d2ca17a180786b69acc140d282b71a49"
   }
  }
 },
 "nbformat": 4,
 "nbformat_minor": 2
}
