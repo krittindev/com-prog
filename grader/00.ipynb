{
 "cells": [
  {
   "attachments": {},
   "cell_type": "markdown",
   "metadata": {},
   "source": [
    "##### [00_Intro_01] 00_Intro_★_Hello\n",
    "[Description](https://2110101.nattee.net/python/tasks/download/1079/00_Intro_01.pdf)"
   ]
  },
  {
   "cell_type": "code",
   "execution_count": null,
   "metadata": {},
   "outputs": [],
   "source": [
    "text = \"Hello Python.\\nWe're using Python 3.\"\n",
    "print(text)"
   ]
  },
  {
   "attachments": {},
   "cell_type": "markdown",
   "metadata": {},
   "source": [
    "------"
   ]
  },
  {
   "attachments": {},
   "cell_type": "markdown",
   "metadata": {},
   "source": [
    "##### [00_Intro_02] 00_Intro_★_Big_Numbers\n",
    "[Description](https://2110101.nattee.net/python/tasks/download/1080/00_Intro_02.pdf)"
   ]
  },
  {
   "cell_type": "code",
   "execution_count": null,
   "metadata": {},
   "outputs": [],
   "source": [
    "a = 2938402734091273094162387451928736401926340971234\n",
    "b = 9208209384928743098273495872039847509273497\n",
    "print(a,\"\\n+\\n\", b, \"\\n=\\n\", a+b)"
   ]
  },
  {
   "attachments": {},
   "cell_type": "markdown",
   "metadata": {},
   "source": [
    "------"
   ]
  },
  {
   "attachments": {},
   "cell_type": "markdown",
   "metadata": {},
   "source": [
    "##### [00_Intro_03] 00_Intro_★_Mountain_Valley\n",
    "[Description](https://2110101.nattee.net/python/tasks/download/1081/00_Intro_03.pdf)"
   ]
  },
  {
   "cell_type": "code",
   "execution_count": null,
   "metadata": {},
   "outputs": [],
   "source": [
    "print('+' + '-' * 42 + '+')\n",
    "print('|' + '.' * 32 + '/' + '\\\\' + '.' * 8 + '|')\n",
    "print('|' + '.' * 31 + '/' + '#' * 2 + '\\\\' + '.' * 7 + '|')\n",
    "print('|' + '.' * 30 + '/' + '#' * 4 + '\\\\' + '.' * 6 + '|')\n",
    "print('|' + '.' * 29 + '/' + '#' * 6 + '\\\\' + '.' * 5 + '|')\n",
    "print('|' + '.' * 28 + '/' + '#' * 8 + '\\\\' + '.' * 4 + '|')\n",
    "print('|' + '.' * 7 + '_' * 2 + '.' * 18 + '/' + '#' * 10 + '\\\\' + '.' * 3 + '|')\n",
    "print('|' + '.' * 6 + '/' + '#' * 2 + '\\\\' + '.' * 16 + '/' + '#' * 12 + '\\\\' + '.' * 2 + '|')\n",
    "print('|' + '.' + '/' + '\\\\' + '.' * 2 + '/' + '#' * 4 + '\\\\' + '.' * 8 + '/' + '\\\\' + '.' * 4 + '/' + '#' * 14 + '\\\\' + '.' * 1 + '|')\n",
    "print('|' + '/' + '#' * 2 + '\\\\' + '/' + '#' * 6 + '\\\\' + '.' * 6 + '/' + '#' * 2 + '\\\\' + '.' * 2 + '/' + '#' * 16 + '\\\\' + '|')\n",
    "print('|' + '#' * 12 + '\\\\' + '.' * 4 + '/' + '#' * 4 + '\\\\' + '/' + '#' * 18 + '|')\n",
    "print('|' + '#' * 13 + '\\\\' + '_' * 2 + '/' + '#' * 25 + '|')\n",
    "print('+' + '-' * 42 + '+')"
   ]
  },
  {
   "attachments": {},
   "cell_type": "markdown",
   "metadata": {},
   "source": [
    "------"
   ]
  }
 ],
 "metadata": {
  "kernelspec": {
   "display_name": "Python 3",
   "language": "python",
   "name": "python3"
  },
  "language_info": {
   "codemirror_mode": {
    "name": "ipython",
    "version": 3
   },
   "file_extension": ".py",
   "mimetype": "text/x-python",
   "name": "python",
   "nbconvert_exporter": "python",
   "pygments_lexer": "ipython3",
   "version": "3.10.6"
  },
  "orig_nbformat": 4,
  "vscode": {
   "interpreter": {
    "hash": "aee8b7b246df8f9039afb4144a1f6fd8d2ca17a180786b69acc140d282b71a49"
   }
  }
 },
 "nbformat": 4,
 "nbformat_minor": 2
}
