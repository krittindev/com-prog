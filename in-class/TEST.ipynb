{
 "cells": [
  {
   "cell_type": "code",
   "execution_count": 1,
   "metadata": {},
   "outputs": [
    {
     "name": "stdout",
     "output_type": "stream",
     "text": [
      "Return      Test        State       \n",
      "--------------------------------\n",
      "2           2           \u001b[92mPASSED\u001b[0m                 \n",
      "2           3           \u001b[91mFAILURE\u001b[0m    comment     \n"
     ]
    }
   ],
   "source": [
    "def assertEqual(first ,second, msg = \"\"):\n",
    "    state = (\"\\033[92mPASSED\" if first == second else \"\\033[91mFAILURE\") + \"\\033[0m\"\n",
    "    print(f\"{str(first):12}{str(second):12}{state:20}{msg:12}\")\n",
    "def unit_test():\n",
    "    print(f\"{'Return':12}{'Test':12}{'State':12}\" + '\\n' + '-' * 32)\n",
    "    assertEqual(2, 2)\n",
    "    assertEqual(2, 3, \"comment\")\n",
    "unit_test()"
   ]
  }
 ],
 "metadata": {
  "kernelspec": {
   "display_name": "Python 3",
   "language": "python",
   "name": "python3"
  },
  "language_info": {
   "codemirror_mode": {
    "name": "ipython",
    "version": 3
   },
   "file_extension": ".py",
   "mimetype": "text/x-python",
   "name": "python",
   "nbconvert_exporter": "python",
   "pygments_lexer": "ipython3",
   "version": "3.10.6"
  },
  "orig_nbformat": 4,
  "vscode": {
   "interpreter": {
    "hash": "aee8b7b246df8f9039afb4144a1f6fd8d2ca17a180786b69acc140d282b71a49"
   }
  }
 },
 "nbformat": 4,
 "nbformat_minor": 2
}
