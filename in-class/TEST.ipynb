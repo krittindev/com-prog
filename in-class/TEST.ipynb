{
 "cells": [
  {
   "cell_type": "code",
   "execution_count": null,
   "metadata": {},
   "outputs": [],
   "source": [
    "def assertEqual(first ,second, msg = \"\"):\n",
    "    state = (\"\\033[92mPASSED\" if first == second else \"\\033[91mFAILURE\") + \"\\033[0m\"\n",
    "    print(f\"{str(first):12}{str(second):12}{state:20}{msg:12}\")\n",
    "def unit_test():\n",
    "    print(f\"{'Return':12}{'Test':12}{'State':12}\" + '\\n' + '-' * 32)\n",
    "    assertEqual(2, 2)\n",
    "    assertEqual(2, 3, \"comment\")\n",
    "unit_test()"
   ]
  }
 ],
 "metadata": {
  "kernelspec": {
   "display_name": "Python 3",
   "language": "python",
   "name": "python3"
  },
  "language_info": {
   "codemirror_mode": {
    "name": "ipython",
    "version": 3
   },
   "file_extension": ".py",
   "mimetype": "text/x-python",
   "name": "python",
   "nbconvert_exporter": "python",
   "pygments_lexer": "ipython3",
   "version": "3.10.6 (v3.10.6:9c7b4bd164, Aug  1 2022, 17:13:48) [Clang 13.0.0 (clang-1300.0.29.30)]"
  },
  "orig_nbformat": 4,
  "vscode": {
   "interpreter": {
    "hash": "aee8b7b246df8f9039afb4144a1f6fd8d2ca17a180786b69acc140d282b71a49"
   }
  }
 },
 "nbformat": 4,
 "nbformat_minor": 2
}
