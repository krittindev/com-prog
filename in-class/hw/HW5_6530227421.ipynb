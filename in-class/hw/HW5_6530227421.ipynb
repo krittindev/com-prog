{
  "cells": [
    {
      "cell_type": "markdown",
      "metadata": {
        "id": "YTDQanrJ86Vh"
      },
      "source": [
        "# HW5_TSD: การบ้านครั้งที่ 5 เรื่อง Nested Loop, Nested List, Tuple/Set/Dict\n",
        "\n",
        "\n"
      ]
    },
    {
      "cell_type": "markdown",
      "metadata": {
        "id": "mXvbUjnTOV2Y"
      },
      "source": [
        "**จุดมุ่งหมายของการบ้าน**\n",
        "*   เข้าใจและสามารถใช้งาน Nested Loop & Nested List ได้\n",
        "*   เข้าใจและสามารถใช้งาน List/Tuple/Set/Dict ได้\n",
        "\n",
        "\n"
      ]
    },
    {
      "cell_type": "markdown",
      "metadata": {
        "id": "DLvxhuA0NIzF"
      },
      "source": [
        "\n",
        "\n",
        "##**เริ่มต้น**\n",
        "1. ให้ copy file ไปที่ Google Drive ของนิสิตโดยเลือกเมนู File->Save a copy in Drive\n",
        "2. ไปที่ไฟล์ที่ copy มาแล้วตั้งชื่อไฟล์เป็น HW5_XXXXXXXXXX.ipynb เมื่อ XXXXXXXXXX คือรหัสนิสิต\n",
        "\n",
        "## <font color=red>สำคัญ: อ่านตรงนี้ด้วย\n",
        "## ข้อห้าม</font>\n",
        " - ห้าม import ใด ๆ \n",
        " - ในฟังก์ชันต้องไม่ใช้ตัวแปรนอกฟังก์ชัน \n",
        " - ฟังก์ชันต้องไม่ print อะไรใด ๆ ทั้งสิ้น\n",
        " - ห้ามเปลี่ยนบรรทัด `def` ของฟังก์ชันที่ให้เขียน\n",
        " - ในกรณีที่ฟังก์ชันมีการคืนค่า ฟังก์ชันต้องคืนข้อมูลและประเภทข้อมูลตามที่กำหนดเท่านั้น\n",
        " - ฟังก์ชันต้องไม่เปลี่ยนแปลงข้อมูลภายในของพารามิเตอร์ที่ได้รับ \n",
        " - บรรทัดแรกของ code cell ที่เขียนต้องขึ้นต้นด้วย `# HW5_TSD` ตามที่ให้ไป ห้ามแก้ไขหรือเพิ่มอะไรเข้าไปก่อนหน้า\n",
        " - อนุญาตให้มีการเขียนฟังก์ชันเอง แต่ต้องเขียนในบริเวณที่กำหนด\n",
        "\n",
        "- <font color=red>ส่อทุจริต</font> เช่น  \n",
        " - ส่งโปรแกรมที่ผู้ส่งไม่สามารถอธิบายได้ว่า ใช้หลักการและทำงานอย่างไร\n",
        "  - หรือ ส่งโปรแกรมที่คล้ายกับโปรแกรมของผู้อื่นมาก ๆ (ไม่ว่าจะเป็นผู้ให้หรือผู้รับ จะตั้งใจหรือไม่ก็ตาม)\n",
        "  - ฉะนั้น\n",
        "    - ให้แน่ใจว่า ไม่ดูโปรแกรมของคนอื่น\n",
        "    - ให้แน่ใจว่า ไม่ได้ให้คนอื่นดูโปรแกรมของตัวเอง\n",
        "\n",
        "- หากพบว่า งานที่ส่งส่อทุจริต จะได้นิสิตจะได้ $0$ ใน <font color=red>การบ้านครั้งนี้ และการบ้านครั้งที่แล้ว ๆ</font>\n",
        "- จะตรวจให้คะแนน เมื่อ\n",
        " - แฟ้มที่ส่งครั้งหลังสุดใน MyCourseVille เป็นแฟ้มที่ตั้งชื่อตามที่กำหนด และเป็นแฟ้มที่ได้จากการ File->Download->Download .ipynb เท่านั้น (ไม่ใช่แฟ้ม .py แล้วมา rename เป็น .ipynb)\n",
        " - ฟังก์ชันที่เขียนส่งต้องอยู่ใน code cell ที่ให้มาเท่านั้น\n",
        " - ไม่ทำในสิ่งที่ห้ามทำในข้อห้าม\n",
        " - code cell ที่ให้เขียนสามารถทำงานได้ (ไม่มี error)\n",
        " - ให้แน่ใจว่า code ที่ส่งมา ไม่มี syntax error, indentation error หรืออื่น ๆ ที่ทำให้สั่งทำงาน code ไม่ได้ (ถ้ามี ก็ตรวจไม่ได้ ได้ 0)\n",
        "\n",
        "\n",
        "\n",
        "\n"
      ]
    },
    {
      "cell_type": "markdown",
      "metadata": {
        "id": "lgsq1C6oOkg_"
      },
      "source": [
        "##**การส่งงาน**\n"
      ]
    },
    {
      "cell_type": "markdown",
      "metadata": {
        "id": "v7-Ib0uROq3n"
      },
      "source": [
        "1. ส่งไฟล์ในรูปแบบ .ipynb ที่ได้จากการเลือกเมนู File->Download->Download .ipynb ของ Colab และส่งแฟ้ม ipynb นี้ใน MyCourseVille\n",
        "2. ตั้งชื่อไฟล์เป็น HW5_XXXXXXXXX.ipynb เมื่อ XXXXXXXXXX คือ รหัสนิสิต\n",
        "3. ส่งแฟ้ม .ipynb กี่ครั้งก็ได้ แต่จะตรวจแฟ้ม .ipynb **แฟ้มล่าสุด ที่ส่งภายในกำหนด** เท่านั้น\n",
        "4. <font color=\"red\">**กำหนดส่ง คือ ก่อน 23:59 น. ของพุธที่ 5 เมษายน 2566**</font>"
      ]
    },
    {
      "cell_type": "markdown",
      "metadata": {
        "id": "Y8P2cJOlTMvz"
      },
      "source": [
        "# การบ้านครั้งที่ 5 : Historical Olympic Games Data Analysis\n",
        "\n"
      ]
    },
    {
      "cell_type": "markdown",
      "metadata": {
        "id": "RB72G2vdLFSq"
      },
      "source": [
        "ข้อมูลที่ใช้ในการบ้านนี้ เป็นข้อมูลการเข้าร่วมการแข่งขันของนักกีฬาทีมชาติต่าง ๆ ในโอลิมปิก ทั้ง Winter Olympic และ Summer Olympic ระหว่าง ปีค.ศ. 2000-2016 ที่กรองมาจาก \"120 years of Olympic history: athletes and results Dataset\" ใน Kaggle.com\n",
        "\n",
        "**หมายเหตุ:** การแข่งขัน Winter Olympic จะจัดขึ้นทุก 4 ปี เช่นเดียวกับ Summer Olympic โดยจะสับหว่างกัน ดังนั้น Winter Olympic จะห่างจาก Summer Olympic 2 ปี เช่น ปี 2000 เป็น Summer Olympic ปี 2002 เป็น Winter Olympic เป็นต้น \n",
        "\n"
      ]
    },
    {
      "cell_type": "markdown",
      "metadata": {
        "id": "FmyU6V1a89HW"
      },
      "source": [
        "รัน code cell ด้านล่างนี้ เพื่อ download ไฟล์ `athlete_events_2000-2016_cl.csv` และ `athlete_events_mock.csv`จาก Google Drive เข้ามาใน Colab  "
      ]
    },
    {
      "cell_type": "code",
      "execution_count": 10,
      "metadata": {
        "colab": {
          "base_uri": "https://localhost:8080/"
        },
        "id": "DqH9iky8SBip",
        "outputId": "0d37921e-896f-49ce-c632-8ab1c127debd"
      },
      "outputs": [
        {
          "name": "stdout",
          "output_type": "stream",
          "text": [
            "/usr/local/lib/python3.9/dist-packages/gdown/cli.py:121: FutureWarning: Option `--id` was deprecated in version 4.3.1 and will be removed in 5.0. You don't need to pass it anymore to use a file ID.\n",
            "  warnings.warn(\n",
            "Downloading...\n",
            "From: https://drive.google.com/uc?id=1Hka3OmRMyN6vBHVssUxMeD9k58TUWjur\n",
            "To: /content/athlete_events_2000-2016_cl.csv\n",
            "100% 11.3M/11.3M [00:00<00:00, 165MB/s]\n",
            "/usr/local/lib/python3.9/dist-packages/gdown/cli.py:121: FutureWarning: Option `--id` was deprecated in version 4.3.1 and will be removed in 5.0. You don't need to pass it anymore to use a file ID.\n",
            "  warnings.warn(\n",
            "Downloading...\n",
            "From: https://drive.google.com/uc?id=11fkwj3pNX4CqhQ2zDrRfs8-n6ASR-foW\n",
            "To: /content/athlete_events_mock.csv\n",
            "100% 3.99k/3.99k [00:00<00:00, 6.94MB/s]\n"
          ]
        }
      ],
      "source": [
        "! gdown --id 1Hka3OmRMyN6vBHVssUxMeD9k58TUWjur\n",
        "! gdown --id 11fkwj3pNX4CqhQ2zDrRfs8-n6ASR-foW"
      ]
    },
    {
      "cell_type": "markdown",
      "metadata": {
        "id": "ZLlnWkP2Dq76"
      },
      "source": [
        "ไฟล์ `athlete_events_2000-2016_cl.csv` นี้มีข้อมูลจำนวน `85,259 rows` และ `15 columns` \n",
        "โดย แถวนอนแถวแรกเป็นหัวตาราง ดังรายการด้านล่างนี้ \n",
        "\n",
        "1. ID - หมายเลขประจำตัวนักกีฬา\n",
        "2. Name - ชื่อนักกีฬา\n",
        "3. Sex - เพศ M (ชาย) หรือ F (หญิง)\n",
        "4. Age - อายุ\n",
        "5. Height - ความสูง (ซม.)\n",
        "6. Weight - น้ำหนัก (กก.)\n",
        "7. Team - ชื่อทีม\n",
        "8. NOC - National Olympic Committee รหัสประเทศ 3 ตัวอักษร\n",
        "9. Games - ชื่อเกมส์\n",
        "10. Year - ปี\n",
        "11. Season - Summer หรือ Winter\n",
        "12. City - ชื่อเมืองที่จัดการแข่งขัน\n",
        "13. Sport - กีฬา\n",
        "14. Event - ประเภทการแข่งขัน\n",
        "15. Medal - เหรียญ (Gold, Silver, Bronze, NA)\n",
        "\n",
        "แถวถัดมาที่เหลือเป็นข้อมูลรายละเอียดต่าง ๆ ของนักกีฬาที่เข้าแข่งขัน  \n",
        "\n",
        "ส่วนไฟล์ `athlete_events_mock.csv` เป็นไฟล์ข้อมูลที่มีโครงสร้างลักษณะเดียวกัน เพียงแต่ใส่ข้อมูลสมมติเพื่อใช้ในการทดสอบโปรแกรม"
      ]
    },
    {
      "cell_type": "markdown",
      "metadata": {
        "id": "8g6mptrsOqdP"
      },
      "source": [
        "รัน code cell ด้านล่างนี้ เพื่ออ่านข้อมูลจากไฟล์ csv มาเก็บในตัวแปร `data` และ `data_mock` ซึ่งเป็น nested list "
      ]
    },
    {
      "cell_type": "code",
      "execution_count": 11,
      "metadata": {
        "id": "ylOZv9X0Oun1"
      },
      "outputs": [],
      "source": [
        "import csv\n",
        "fn = open('athlete_events_2000-2016_cl.csv', 'r', encoding='utf-8-sig') \n",
        "data = list(csv.reader(fn, delimiter = ','))\n",
        "fn.close()\n",
        "\n",
        "fn = open('athlete_events_mock.csv', 'r', encoding='utf-8-sig') \n",
        "data_mock = list(csv.reader(fn, delimiter = ','))\n",
        "fn.close()\n"
      ]
    },
    {
      "cell_type": "markdown",
      "metadata": {
        "id": "jVfrjSCPQSsv"
      },
      "source": [
        "โดยแต่ละ element ในลิสต์ `data` เป็นลิสต์ที่มีข้อมูล 15 elements ดูตัวอย่างโดย รัน code cell ด้านล่างนี้"
      ]
    },
    {
      "cell_type": "code",
      "execution_count": 12,
      "metadata": {
        "colab": {
          "base_uri": "https://localhost:8080/"
        },
        "id": "g2152DAAPNPO",
        "outputId": "4e5aaaf4-db1e-4ded-b879-11a430b8f8e7"
      },
      "outputs": [
        {
          "name": "stdout",
          "output_type": "stream",
          "text": [
            "85259\n",
            "['ID', 'Name', 'Sex', 'Age', 'Height', 'Weight', 'Team', 'NOC', 'Games', 'Year', 'Season', 'City', 'Sport', 'Event', 'Medal']\n",
            "['2', 'A Lamusi', 'M', '23', '170', '60', 'China', 'CHN', '2012 Summer', '2012', 'Summer', 'London', 'Judo', \"Judo Men's Extra-Lightweight\", 'NA']\n",
            "['9', 'Antti Sami Aalto', 'M', '26', '186', '96', 'Finland', 'FIN', '2002 Winter', '2002', 'Winter', 'Salt Lake City', 'Ice Hockey', \"Ice Hockey Men's Ice Hockey\", 'NA']\n"
          ]
        }
      ],
      "source": [
        "print(len(data))\n",
        "print(data[0])\n",
        "print(data[1])\n",
        "print(data[2])"
      ]
    },
    {
      "cell_type": "markdown",
      "metadata": {
        "id": "WqmBa1SpORpR"
      },
      "source": [
        "## **งานของคุณ**\n",
        "\n"
      ]
    },
    {
      "cell_type": "markdown",
      "metadata": {
        "id": "baFphT4hVitf"
      },
      "source": [
        "จงเขียนฟังก์ชัน \n",
        "1. [10 คะแนน] `convert_to_dict(data)` \n",
        "เพื่อแปลงข้อมูลการเข้าร่วมการแข่งขันของนักกีฬาที่อยู่ในรูป nested list มาจัดเก็บใน nested dict ที่มี `Year` และ `NOC` เป็น key ตามลำดับ \n",
        "  * `data` คือข้อมูลการเข้าร่วมการแข่งขันของนักกีฬาที่อยู่ในรูป nested list\n",
        "  * คืนค่า nested dict ที่เก็บข้อมูลการเข้าร่วมการแข่งขันของนักกีฬา โดยให้ dict ชั้นนอกมี key เป็น `Year` มี value เป็น dict ที่มี `NOC` เป็น key และมี value เป็น list ของ dict ที่มี key เป็นชื่อ `columns ทั้ง 15 fields` และ value คือค่าต่าง ๆ ของนักกีฬาแต่ละคน ซึ่งมีโครงสร้างเช่นนี้\n",
        "  ``` \n",
        "  { year:  {NOC: [ {'ID':..., 'Name': ..., ... }, ... ], ...}, ... }\n",
        "  ```\n",
        "  * ตัวอย่างผลลัพธ์ของ \n",
        "  ```\n",
        "    d = convert_to_dict(data)\n",
        "    print(len(d['2000']['THA']))\n",
        "    for i in range(5):\n",
        "      print(d['2000']['THA'][i])\n",
        "  ``` \n",
        "     จะคืนค่า\n",
        "  \n",
        "  ```\n",
        "  68\n",
        "{'ID': '21596', 'Name': 'Somchai Cimlum', 'Sex': 'M', 'Age': '24', 'Height': '179', 'Weight': '73', 'Team': 'Thailand', 'NOC': 'THA', 'Games': '2000 Summer', 'Year': '2000', 'Season': 'Summer', 'City': 'Sydney', 'Sport': 'Boxing', 'Event': \"Boxing Men's Middleweight\", 'Medal': 'NA'}\n",
        "{'ID': '27067', 'Name': 'Saipin Dejsaeng', 'Sex': 'F', 'Age': '23', 'Height': '159', 'Weight': '62', 'Team': 'Thailand', 'NOC': 'THA', 'Games': '2000 Summer', 'Year': '2000', 'Season': 'Summer', 'City': 'Sydney', 'Sport': 'Weightlifting', 'Event': \"Weightlifting Women's Middleweight\", 'Medal': 'NA'}\n",
        "{'ID': '31865', 'Name': 'Sujitra Ekmongkolpaisarn', 'Sex': 'F', 'Age': '23', 'Height': '172', 'Weight': '50', 'Team': 'Thailand', 'NOC': 'THA', 'Games': '2000 Summer', 'Year': '2000', 'Season': 'Summer', 'City': 'Sydney', 'Sport': 'Badminton', 'Event': \"Badminton Women's Singles\", 'Medal': 'NA'}\n",
        "{'ID': '31865', 'Name': 'Sujitra Ekmongkolpaisarn', 'Sex': 'F', 'Age': '23', 'Height': '172', 'Weight': '50', 'Team': 'Thailand', 'NOC': 'THA', 'Games': '2000 Summer', 'Year': '2000', 'Season': 'Summer', 'City': 'Sydney', 'Sport': 'Badminton', 'Event': \"Badminton Women's Doubles\", 'Medal': 'NA'}\n",
        "{'ID': '49680', 'Name': 'Arun Homraruen', 'Sex': 'M', 'Age': '30', 'Height': '174', 'Weight': '64', 'Team': 'Thailand', 'NOC': 'THA', 'Games': '2000 Summer', 'Year': '2000', 'Season': 'Summer', 'City': 'Sydney', 'Sport': 'Sailing', 'Event': \"Sailing Men's Windsurfer\", 'Medal': 'NA'}\n",
        "  ```\n",
        "  ความหมายคือ ในปี 2000 ประเทศไทย (THA) ร่วมแข่งขันทั้งสิ้น 68 รายการ โดยพิมพ์รายละเอียดของการเข้าร่วมแข่งขัน 5 รายการแรก\n",
        "\n",
        "---\n",
        "\n",
        "\n"
      ]
    },
    {
      "cell_type": "markdown",
      "metadata": {
        "id": "kM6H6IS69baj"
      },
      "source": [
        "2. [10 คะแนน] `get_medals_by_team(athletes_by_Year_NOC, year)`\n",
        "  เพื่อทำตารางสรุปเหรียญของแต่ละประเทศ ในการแข่งขันในปีที่ระบุ \n",
        "  * `athletes_by_Year_NOC` คือข้อมูลการเข้าร่วมการแข่งขันของนักกีฬาที่อยู่ในรูป nested dict (ผลลัพธ์จากข้อ 1)\n",
        "  * `year` คือปีการแข่งขัน (เป็น string)\n",
        "  * คืนค่า dict ที่เก็บสรุปเหรียญ โดยมี Key เป็น NOC และ Value เป็น tuple ที่เก็บจำนวนเหรียญ ทอง เงิน และ ทองแดง ตามลำดับ\n",
        "  * ตัวอย่างผลลัพธ์ของ \n",
        "  ```\n",
        "  d = convert_to_dict(data)\n",
        "  m = get_medals_by_team(d, '2000')\n",
        "  print(len(m))\n",
        "  print(m)\n",
        "  ```\n",
        "  จะคืนค่า\n",
        "\n",
        "\n",
        "  ```\n",
        "  200\n",
        "  {'FIN': (3, 1, 1), 'NOR': (20, 4, 19), 'NED': (27, 29, 23), 'EGY': (0, 0, 0), 'ARG': (0, 17, 3), 'CUB': (18, 35, 12), 'CMR': (18, 0, 0), 'MEX': (1, 2, 3), 'ITA': (22, 14, 29), 'PAK': (0, 0, 0), 'AZE': (2, 0, 1), 'CAN': (4, 4, 23), 'USA': (130, 61, 51), 'AUS': (60, 69, 54), 'KUW': (0, 0, 1), 'MAS': (0, 0, 0), 'BRU': (0, 0, 0), 'SUD': (0, 0, 0), 'BRN': (0, 0, 0), 'UZB': (1, 1, 2), 'JPN': (5, 31, 8), 'ESP': (3, 19, 20), 'ETH': (4, 1, 3), 'SRI': (0, 1, 0), 'SYR': (0, 0, 0), 'MAR': (0, 1, 4), 'SWE': (4, 20, 8), 'RUS': (66, 67, 54), 'JOR': (0, 0, 0), 'CHN': (39, 23, 17), 'GER': (31, 23, 64), 'GBR': (22, 20, 12), 'UGA': (0, 0, 0), 'SLO': (3, 0, 0), 'TUR': (3, 0, 2), 'RSA': (0, 2, 3), 'GHA': (0, 0, 0), 'ALG': (1, 1, 3), 'SUR': (0, 0, 0), 'SOM': (0, 0, 0), 'LBA': (0, 0, 0), 'FRA': (22, 30, 14), 'PLW': (0, 0, 0), 'LTU': (2, 0, 15), 'BRA': (0, 12, 36), 'UKR': (3, 20, 12), 'IRI': (3, 0, 1), 'NGR': (6, 2, 0), 'GRE': (4, 6, 8), 'CRO': (1, 0, 9), 'DMA': (0, 0, 0), 'DEN': (18, 3, 4), 'ANG': (0, 0, 0), 'IRQ': (0, 0, 0), 'MDV': (0, 0, 0), 'NZL': (1, 0, 3), 'PER': (0, 0, 0), 'SCG': (11, 1, 13), 'HUN': (25, 24, 4), 'CIV': (0, 0, 0), 'CYP': (0, 0, 0), 'KAZ': (3, 4, 0), 'KGZ': (0, 0, 1), 'BAN': (0, 0, 0), 'KSA': (0, 1, 1), 'QAT': (0, 0, 1), 'LIB': (0, 0, 0), 'OMA': (0, 0, 0), 'PLE': (0, 0, 0), 'YEM': (0, 0, 0), 'UAE': (0, 0, 0), 'ROU': (27, 6, 13), 'BLR': (3, 8, 11), 'TTO': (0, 1, 1), 'ISL': (0, 0, 1), 'NIG': (0, 0, 0), 'DJI': (0, 0, 0), 'SVK': (2, 3, 1), 'GUY': (0, 0, 0), 'JAM': (0, 20, 3), 'BAR': (0, 0, 1), 'VEN': (0, 0, 0), 'CHI': (0, 0, 17), 'IOA': (0, 0, 0), 'AUT': (3, 1, 0), 'INA': (2, 4, 2), 'BAH': (6, 0, 5), 'SMR': (0, 0, 0), 'MOZ': (1, 0, 0), 'POR': (0, 0, 2), 'CZE': (2, 3, 4), 'IND': (0, 0, 1), 'BUL': (5, 6, 2), 'SUI': (1, 11, 2), 'BEL': (0, 3, 4), 'MLT': (0, 0, 0), 'LUX': (0, 0, 0), 'GBS': (0, 0, 0), 'TUN': (0, 0, 0), 'GEO': (0, 0, 6), 'ERI': (0, 0, 0), 'TKM': (0, 0, 0), 'MAD': (0, 0, 0), 'MRI': (0, 0, 0), 'EST': (1, 0, 2), 'ISR': (0, 0, 1), 'ARM': (0, 0, 1), 'KEN': (2, 3, 2), 'MGL': (0, 0, 0), 'KOR': (12, 26, 35), 'GUI': (0, 0, 0), 'CGO': (0, 0, 0), 'POL': (7, 10, 7), 'VIN': (0, 0, 0), 'TOG': (0, 0, 0), 'ECU': (0, 0, 0), 'SEY': (0, 0, 0), 'URU': (0, 1, 0), 'GEQ': (0, 0, 0), 'ANT': (0, 0, 0), 'BOT': (0, 0, 0), 'SKN': (0, 0, 0), 'PAN': (0, 0, 0), 'COM': (0, 0, 0), 'TAN': (0, 0, 0), 'COL': (1, 0, 0), 'ISV': (0, 0, 0), 'SLE': (0, 0, 0), 'LAT': (1, 1, 1), 'AND': (0, 0, 0), 'MON': (0, 0, 0), 'SWZ': (0, 0, 0), 'ARU': (0, 0, 0), 'MDA': (0, 1, 1), 'ZIM': (0, 0, 0), 'CRC': (0, 0, 2), 'GUA': (0, 0, 0), 'NEP': (0, 0, 0), 'PNG': (0, 0, 0), 'MKD': (0, 0, 1), 'GAB': (0, 0, 0), 'SGP': (0, 0, 0), 'IRL': (0, 1, 0), 'PHI': (0, 0, 0), 'BER': (0, 0, 0), 'PUR': (0, 0, 0), 'ZAM': (0, 0, 0), 'DOM': (0, 0, 0), 'BOL': (0, 0, 0), 'MLI': (0, 0, 0), 'PAR': (0, 0, 0), 'HON': (0, 0, 0), 'PRK': (0, 1, 3), 'HKG': (0, 0, 0), 'TPE': (0, 1, 4), 'MYA': (0, 0, 0), 'MAW': (0, 0, 0), 'GUM': (0, 0, 0), 'BHU': (0, 0, 0), 'THA': (1, 0, 2), 'SEN': (0, 0, 0), 'HAI': (0, 0, 0), 'IVB': (0, 0, 0), 'CAF': (0, 0, 0), 'LBR': (0, 0, 0), 'NCA': (0, 0, 0), 'BEN': (0, 0, 0), 'AHO': (0, 0, 0), 'MTN': (0, 0, 0), 'ESA': (0, 0, 0), 'CPV': (0, 0, 0), 'TJK': (0, 0, 0), 'BIH': (0, 0, 0), 'GAM': (0, 0, 0), 'LIE': (0, 0, 0), 'NAM': (0, 0, 0), 'RWA': (0, 0, 0), 'STP': (0, 0, 0), 'BDI': (0, 0, 0), 'CAM': (0, 0, 0), 'LCA': (0, 0, 0), 'SOL': (0, 0, 0), 'GRN': (0, 0, 0), 'SAM': (0, 0, 0), 'BIZ': (0, 0, 0), 'COD': (0, 0, 0), 'VAN': (0, 0, 0), 'LES': (0, 0, 0), 'LAO': (0, 0, 0), 'TGA': (0, 0, 0), 'ALB': (0, 0, 0), 'VIE': (0, 1, 0), 'CAY': (0, 0, 0), 'FSM': (0, 0, 0), 'ASA': (0, 0, 0), 'CHA': (0, 0, 0), 'FIJ': (0, 0, 0), 'BUR': (0, 0, 0), 'NRU': (0, 0, 0), 'COK': (0, 0, 0)}\n",
        "\n",
        "  ```\n",
        "  ความหมายคือ ในปี 2000 มีทีมเข้าแข่งขัน 200 ทีม (ประเทศ) ตามด้วยสรุปเหรียญทอง เงิน และ ทองแดง ของแต่ละทีม\n",
        "\n",
        "---\n"
      ]
    },
    {
      "cell_type": "markdown",
      "metadata": {
        "id": "lVjwHGIV9hwl"
      },
      "source": [
        "3. [10 คะแนน] `get_top_five(medals)`\n",
        "  เพื่อจัดอันดับประเทศ 5 อันดับแรก ที่ได้เหรียญมากที่สุด โดยเรียงจากจำนวนเหรียญทอง เหรียญเงิน และเหรียญทองแดงที่ได้ ตามลำดับ จากมากไปน้อย โดยพิจารณาที่จำนวนเหรียญทองเป็นลำดับแรก หากได้เหรียญทองเท่ากันจะพิจารณาจำนวนเหรียญเงินเป็นลำดับถัดมา หากทั้งจำนวนเหรียญทองและจำนวนเหรียญเงินเท่ากัน ให้พิจารณาจำนวนเหรียญทองแดงเป็นลำดับถัดไป \n",
        "   \n",
        "  * `medals` คือ dict ที่เก็บตารางสรุปเหรียญของแต่ละประเทศ (ผลลัพธ์จากข้อ 2)\n",
        "  * คืนค่าลิสต์ของ tuple ที่เก็บ `(NOC,จำนวนเหรียญทอง, จำนวนเหรียญเงิน,จำนวนเหรียญทองแดง)` 5 อันดับแรก หากจำนวนเหรียญเท่ากันให้เรียงตามตัวอักษรของ NOC และหากอันดับที่ห้า มีประเทศมากกว่าหนึ่งประเทศได้จำนวนเหรียญเท่ากันให้เพิ่มประเทศที่มีจำนวนเหรียญเท่ากันเข้ามาให้หมด (top five จึงอาจมีมากกว่า 5 ประเทศ) \n",
        "\n",
        "  * ตัวอย่างผลลัพธ์ของ \n",
        "  ```\n",
        "  d = convert_to_dict(data)\n",
        "  m = get_medals_by_team(d, '2000')\n",
        "  print(get_top_five(m))\n",
        "  ```\n",
        "  จะคืนค่า\n",
        "  ```\n",
        "  [('USA', 130, 61, 51), ('RUS', 66, 67, 54), ('AUS', 60, 69, 54), ('CHN', 39, 23, 17), ('GER', 31, 23, 64)]\n",
        "  ``` \n",
        "  * ตัวอย่างผลลัพธ์ของ \n",
        "  ```\n",
        "  d_mock = convert_to_dict(data_mock)\n",
        "  m_mock = get_medals_by_team(d_mock, '2010')\n",
        "  print(get_top_five(m_mock))\n",
        "  ```\n",
        "  จะคืนค่า\n",
        "  ```\n",
        "  [('USA', 10, 0, 0), ('GER', 2, 0, 0), ('ESP', 0, 5, 0), ('FRA', 0, 5, 0), ('EGY', 0, 1, 2), ('ITA', 0, 1, 2), ('NCA', 0, 1, 2)]\n",
        "  ```\n",
        "\n",
        "\n",
        "---\n"
      ]
    },
    {
      "cell_type": "markdown",
      "metadata": {
        "id": "gifMnAEd9n_8"
      },
      "source": [
        "4. [10 คะแนน] `get_medals_trend(athletes_by_Year_NOC, NOC, start, end)`\n",
        "  เพื่อสรุปจำนวนเหรียญในแต่ละปีของประเทศ (NOC) ที่ระบุ โดยเรียงปีจาก ปีเริ่มต้นถึงปีสิ้นสุด \n",
        "  * `athletes_by_Year_NOC` คือข้อมูลข้อมูลการเข้าร่วมการแข่งขันของนักกีฬาที่อยู่ในรูป nested dict (ผลลัพธ์จากข้อ 1)\n",
        "  * `NOC` คือรหัสประเทศ (เป็น string)\n",
        "  * `start` คือปี ค.ศ. เริ่มต้น (เป็น int)\n",
        "  * `end` คือปี ค.ศ. สิ้นสุด (เป็น int)\n",
        "  * คืนค่าลิสต์ของ tuple ที่เก็บ `(ปีการแข่งขัน,จำนวนเหรียญทอง, จำนวนเหรียญเงิน,จำนวนเหรียญทองแดง)` \n",
        "  * ตัวอย่างผลลัพธ์ของ \n",
        "  ```\n",
        "  d = convert_to_dict(data)\n",
        "  print('USA')\n",
        "  print(get_medals_trend(d, 'USA', 2001, 2015))\n",
        "  print('THA')\n",
        "  print(get_medals_trend(d, 'THA', 2000, 2016))\n",
        "  ```\n",
        "  จะคืนค่า\n",
        "  ```\n",
        "  USA\n",
        "[('2002', 11, 58, 15), ('2004', 117, 75, 71), ('2006', 9, 11, 32), ('2008', 127, 110, 80), ('2010', 12, 63, 22), ('2012', 145, 57, 46), ('2014', 10, 30, 24)]\n",
        "  THA\n",
        "[('2000', 1, 0, 2), ('2002', 0, 0, 0), ('2004', 3, 1, 4), ('2006', 0, 0, 0), ('2008', 2, 2, 0), ('2012', 0, 2, 1), ('2014', 0, 0, 0), ('2016', 2, 2, 2)]\n",
        "  ``` \n",
        "**หมายเหตุ:**  \n",
        "  - start และ end ไม่อยู่นอกช่วงของข้อมูล (2000-2016) \n",
        "  - แต่อาจจะเป็นเลขคี่ได้ ดังนั้นหาก start, end เป็น 2001, 2011 ให้แสดงข้อมูลของปี 2002 ถึง 2010\n",
        "  - หากปีใดประเทศนั้นไม่ส่งนักกีฬาเข้าแข่งขันก็ให้ข้ามปีนั้นไป เช่น ตัวอย่างข้างต้น ประเทศไทย (THA) ไม่ได้ส่งนักกีฬาเข้าแข่งขันในปี 2010\n",
        "\n",
        "\n",
        "\n",
        "---\n",
        "\n"
      ]
    },
    {
      "cell_type": "markdown",
      "metadata": {
        "id": "3I6I33SB9tDI"
      },
      "source": [
        "5. [10 คะแนน] `get_sports(athletes_by_Year_NOC, NOC, year)`\n",
        "  เพื่อสรุปเหรียญของแต่ละกีฬา ของประเทศและปีการแข่งขันที่กำหนด \n",
        "  * `athletes_by_Year_NOC` คือข้อมูลข้อมูลการเข้าร่วมการแข่งขันของนักกีฬาที่อยู่ในรูป nested dict (ผลลัพธ์จากข้อ 1)\n",
        "  * `NOC` คือรหัสประเทศ (เป็น string)\n",
        "  * `year` คือปีการแข่งขัน (เป็น string)\n",
        "  * คืนค่า set ที่เก็บประเภทกีฬา (Sport) ที่ได้เหรียญ\n",
        "  * ตัวอย่างผลลัพธ์ของ \n",
        "  ```\n",
        "  d = convert_to_dict(data)\n",
        "  print(get_sports(d, 'THA', '2000'))\n",
        "  print(get_sports(d, 'THA', '2010'))\n",
        "  print(get_sports(d, 'THA', '2020'))\n",
        "  print(get_sports(d, 'SOM', '2000'))\n",
        "  print(get_sports(d, 'THA', '2008'))\n",
        "  print(get_sports(d, 'VIE', '2008'))\n",
        "  print(get_sports(d, 'DEN', '2008'))\n",
        "  print(get_sports(d, 'XXX', '2000'))\n",
        "  ``` \n",
        "  จะคืนค่า\n",
        "\n",
        "  ```\n",
        "  {'Weightlifting', 'Boxing'}\n",
        "  set()\n",
        "  set()\n",
        "  set()\n",
        "  {'Weightlifting', 'Boxing', 'Taekwondo'}\n",
        "  {'Weightlifting'}\n",
        "  {'Swimming', 'Equestrianism', 'Rowing', 'Sailing', 'Cycling', 'Canoeing'}\n",
        "  set()\n",
        "  ``` \n",
        "\n",
        "---\n",
        "\n"
      ]
    },
    {
      "cell_type": "markdown",
      "metadata": {
        "id": "YPxERNv39v6A"
      },
      "source": [
        "6. [10 คะแนน] `get_common_sports(athletes_by_Year_NOC, NOCs, year)`\n",
        "  เพื่อหาประเภทกีฬาที่กลุ่มประเทศที่สนใจ ได้เหรียญในประเภทกีฬาเดียวกันในปีการแข่งขันที่กำหนด \n",
        "  * `athletes_by_Year_NOC` คือข้อมูลข้อมูลการเข้าร่วมการแข่งขันของนักกีฬาที่อยู่ในรูป nested dict (ผลลัพธ์จากข้อ 1)\n",
        "  * `NOCs` คือเซตของรหัสประเทศที่สนใจ \n",
        "  * `year` คือปีการแข่งขัน (เป็น string)\n",
        "  * คืนค่า set ที่เก็บประเภทกีฬา (Sport) ที่ประเทศต่างๆ ในเซต `NOCs`ได้เหรียญในประเภทกีฬาเดียวกัน\n",
        "  * ตัวอย่างผลลัพธ์ของ \n",
        "  ```\n",
        "  d = convert_to_dict(data)\n",
        "  print(get_common_sports(d, {'THA','VIE'}, '2008'))\n",
        "  print(get_common_sports(d, {'THA','VIE','DEN'}, '2008'))\n",
        "  print(get_common_sports(d, {'THA','XXX'}, '2008'))\n",
        "  ``` \n",
        "  จะคืนค่า\n",
        "  ```\n",
        "  {'Weightlifting'}\n",
        "  set()\n",
        "  set()\n",
        "  ```"
      ]
    },
    {
      "cell_type": "code",
      "execution_count": 15,
      "metadata": {
        "id": "GUrDtVSj6xBu"
      },
      "outputs": [],
      "source": [
        "# HW5_TSD (ไม่ลบหรือแก้ไขบรรทัดนี้ หรือเพิ่มอะไรก่อนบรรทัดนี้ โดยเด็ดขาด)\n",
        "# ดูรายละเอียดและตัวอย่างเพิ่มเติมในคำอธิบายด้านบน\n",
        "\n",
        "def convert_to_dict(data):\n",
        "    athletes_by_Year_NOC = {}\n",
        "    head = data[0]\n",
        "\n",
        "    for i in range(1, len(data)):\n",
        "        athlete = dict(zip(head, data[i]))\n",
        "        year = athlete['Year']\n",
        "        NOC = athlete['NOC']\n",
        "\n",
        "        if year not in athletes_by_Year_NOC:\n",
        "            athletes_by_Year_NOC[year] = {}\n",
        "\n",
        "        if NOC not in athletes_by_Year_NOC[year]:\n",
        "            athletes_by_Year_NOC[year][NOC] = []\n",
        "\n",
        "        athletes_by_Year_NOC[year][NOC].append(athlete)\n",
        "\n",
        "    return athletes_by_Year_NOC\n",
        "\n",
        "\n",
        "# ======================================\n",
        "def get_medals_by_team(athletes_by_Year_NOC, year):\n",
        "    medals_by_team = {}\n",
        "\n",
        "    if year not in athletes_by_Year_NOC:\n",
        "        return medals_by_team\n",
        "\n",
        "    for NOC, athletes in athletes_by_Year_NOC[year].items():\n",
        "        medals = {'Gold': 0, 'Silver': 0, 'Bronze': 0}\n",
        "\n",
        "        for athlete in athletes:\n",
        "            medal = athlete['Medal']\n",
        "\n",
        "            if medal in medals:\n",
        "                medals[medal] += 1\n",
        "\n",
        "        medals_by_team[NOC] = (\n",
        "            medals['Gold'],\n",
        "            medals['Silver'],\n",
        "            medals['Bronze']\n",
        "        )\n",
        "\n",
        "    return medals_by_team\n",
        "\n",
        "\n",
        "# ======================================\n",
        "def get_top_five(medals):\n",
        "    topfive = []\n",
        "\n",
        "    rank = []\n",
        "    for NOC, medal in medals.items():\n",
        "        gold, silver, bronze = medal\n",
        "        rank.append((-gold, -silver, -bronze, NOC))\n",
        "\n",
        "    rank.sort()\n",
        "\n",
        "    for each_NOC in rank[:5]:\n",
        "        gold, silver, bronze, NOC = each_NOC\n",
        "        topfive.append((NOC, -gold, -silver, -bronze))\n",
        "\n",
        "    for each_NOC in rank[5:]:\n",
        "        gold, silver, bronze, NOC = each_NOC\n",
        "        _, last_gold, last_silver, last_bronze = topfive[-1]\n",
        "\n",
        "        if -gold == last_gold and \\\n",
        "            -silver == last_silver and \\\n",
        "                -bronze == last_bronze:\n",
        "            topfive.append((NOC, -gold, -silver, -bronze))\n",
        "        else:\n",
        "            break\n",
        "\n",
        "    return topfive\n",
        "\n",
        "\n",
        "# ======================================\n",
        "def get_medals_trend(athletes_by_Year_NOC, NOC, start, end):\n",
        "    trend = []\n",
        "\n",
        "    for year in [str(year) for year in range(start, end + 1)]:\n",
        "        if year not in athletes_by_Year_NOC:\n",
        "            continue\n",
        "\n",
        "        medals = get_medals_by_team(athletes_by_Year_NOC, year)\n",
        "\n",
        "        if NOC in medals:\n",
        "            trend.append((year, *medals[NOC]))\n",
        "\n",
        "    return trend\n",
        "\n",
        "\n",
        "# ======================================\n",
        "def get_sports(athletes_by_Year_NOC, NOC, year):\n",
        "    sports = set()\n",
        "\n",
        "    if year not in athletes_by_Year_NOC:\n",
        "        return sports\n",
        "\n",
        "    for NOCs in athletes_by_Year_NOC[year]:\n",
        "        if NOC not in NOCs:\n",
        "            continue\n",
        "\n",
        "        athletes = athletes_by_Year_NOC[year][NOC]\n",
        "\n",
        "        for athlete in athletes:\n",
        "            if athlete['Medal'] != 'NA':\n",
        "                sports.add(athlete['Sport'])\n",
        "\n",
        "    return sports\n",
        "\n",
        "\n",
        "# ======================================\n",
        "def get_common_sports(athletes_by_Year_NOC, NOCs, year):\n",
        "    if len(NOCs) == 0:\n",
        "        return set()\n",
        "\n",
        "    NOC = next(iter(NOCs))\n",
        "\n",
        "    if len(NOCs) == 1:\n",
        "        return get_sports(athletes_by_Year_NOC, NOC, year)\n",
        "    else:\n",
        "        return \\\n",
        "            get_sports(athletes_by_Year_NOC, NOC, year) & \\\n",
        "            get_common_sports(athletes_by_Year_NOC, NOCs - {NOC}, year)\n",
        "\n",
        "# ======================================\n",
        "# สามารถเขียนฟังก์ชันที่สร้างเองได้ในบริเวณด้านล่างของ cell นี้ เท่านั้น\n",
        "\n",
        "\n",
        "def test_convert_to_dict():\n",
        "    d = convert_to_dict(data)\n",
        "    print(len(d['2000']['THA']))\n",
        "    for i in range(5):\n",
        "        print(d['2000']['THA'][i])\n",
        "    print(\n",
        "        '#1 ',\n",
        "        len(d['2000']['THA']) == 68,\n",
        "        d['2000']['THA'][0] == {'ID': '21596', 'Name': 'Somchai Cimlum', 'Sex': 'M', 'Age': '24', 'Height': '179', 'Weight': '73', 'Team': 'Thailand', 'NOC': 'THA',\n",
        "                                'Games': '2000 Summer', 'Year': '2000', 'Season': 'Summer', 'City': 'Sydney', 'Sport': 'Boxing', 'Event': \"Boxing Men's Middleweight\", 'Medal': 'NA'},\n",
        "        d['2000']['THA'][1] == {'ID': '27067', 'Name': 'Saipin Dejsaeng', 'Sex': 'F', 'Age': '23', 'Height': '159', 'Weight': '62', 'Team': 'Thailand', 'NOC': 'THA',\n",
        "                                'Games': '2000 Summer', 'Year': '2000', 'Season': 'Summer', 'City': 'Sydney', 'Sport': 'Weightlifting', 'Event': \"Weightlifting Women's Middleweight\", 'Medal': 'NA'},\n",
        "        d['2000']['THA'][2] == {'ID': '31865', 'Name': 'Sujitra Ekmongkolpaisarn', 'Sex': 'F', 'Age': '23', 'Height': '172', 'Weight': '50', 'Team': 'Thailand', 'NOC': 'THA',\n",
        "                                'Games': '2000 Summer', 'Year': '2000', 'Season': 'Summer', 'City': 'Sydney', 'Sport': 'Badminton', 'Event': \"Badminton Women's Singles\", 'Medal': 'NA'},\n",
        "        d['2000']['THA'][3] == {'ID': '31865', 'Name': 'Sujitra Ekmongkolpaisarn', 'Sex': 'F', 'Age': '23', 'Height': '172', 'Weight': '50', 'Team': 'Thailand', 'NOC': 'THA',\n",
        "                                'Games': '2000 Summer', 'Year': '2000', 'Season': 'Summer', 'City': 'Sydney', 'Sport': 'Badminton', 'Event': \"Badminton Women's Doubles\", 'Medal': 'NA'},\n",
        "        d['2000']['THA'][4] == {'ID': '49680', 'Name': 'Arun Homraruen', 'Sex': 'M', 'Age': '30', 'Height': '174', 'Weight': '64', 'Team': 'Thailand', 'NOC': 'THA',\n",
        "                                'Games': '2000 Summer', 'Year': '2000', 'Season': 'Summer', 'City': 'Sydney', 'Sport': 'Sailing', 'Event': \"Sailing Men's Windsurfer\", 'Medal': 'NA'},\n",
        "        end='\\n\\n'\n",
        "    )\n",
        "\n",
        "\n",
        "def test_get_medals_by_team():\n",
        "    d = convert_to_dict(data)\n",
        "    m = get_medals_by_team(d, '2000')\n",
        "    print(len(m))\n",
        "    print(m)\n",
        "    print(\n",
        "        '#2 ',\n",
        "        len(m) == 200,\n",
        "        m == {'FIN': (3, 1, 1), 'NOR': (20, 4, 19), 'NED': (27, 29, 23), 'EGY': (0, 0, 0), 'ARG': (0, 17, 3), 'CUB': (18, 35, 12), 'CMR': (18, 0, 0), 'MEX': (1, 2, 3), 'ITA': (22, 14, 29), 'PAK': (0, 0, 0), 'AZE': (2, 0, 1), 'CAN': (4, 4, 23), 'USA': (130, 61, 51), 'AUS': (60, 69, 54), 'KUW': (0, 0, 1), 'MAS': (0, 0, 0), 'BRU': (0, 0, 0), 'SUD': (0, 0, 0), 'BRN': (0, 0, 0), 'UZB': (1, 1, 2), 'JPN': (5, 31, 8), 'ESP': (3, 19, 20), 'ETH': (4, 1, 3), 'SRI': (0, 1, 0), 'SYR': (0, 0, 0), 'MAR': (0, 1, 4), 'SWE': (4, 20, 8), 'RUS': (66, 67, 54), 'JOR': (0, 0, 0), 'CHN': (39, 23, 17), 'GER': (31, 23, 64), 'GBR': (22, 20, 12), 'UGA': (0, 0, 0), 'SLO': (3, 0, 0), 'TUR': (3, 0, 2), 'RSA': (0, 2, 3), 'GHA': (0, 0, 0), 'ALG': (1, 1, 3), 'SUR': (0, 0, 0), 'SOM': (0, 0, 0), 'LBA': (0, 0, 0), 'FRA': (22, 30, 14), 'PLW': (0, 0, 0), 'LTU': (2, 0, 15), 'BRA': (0, 12, 36), 'UKR': (3, 20, 12), 'IRI': (3, 0, 1), 'NGR': (6, 2, 0), 'GRE': (4, 6, 8), 'CRO': (1, 0, 9), 'DMA': (0, 0, 0), 'DEN': (18, 3, 4), 'ANG': (0, 0, 0), 'IRQ': (0, 0, 0), 'MDV': (0, 0, 0), 'NZL': (1, 0, 3), 'PER': (0, 0, 0), 'SCG': (11, 1, 13), 'HUN': (25, 24, 4), 'CIV': (0, 0, 0), 'CYP': (0, 0, 0), 'KAZ': (3, 4, 0), 'KGZ': (0, 0, 1), 'BAN': (0, 0, 0), 'KSA': (0, 1, 1), 'QAT': (0, 0, 1), 'LIB': (0, 0, 0), 'OMA': (0, 0, 0), 'PLE': (0, 0, 0), 'YEM': (0, 0, 0), 'UAE': (0, 0, 0), 'ROU': (27, 6, 13), 'BLR': (3, 8, 11), 'TTO': (0, 1, 1), 'ISL': (0, 0, 1), 'NIG': (0, 0, 0), 'DJI': (0, 0, 0), 'SVK': (2, 3, 1), 'GUY': (0, 0, 0), 'JAM': (0, 20, 3), 'BAR': (0, 0, 1), 'VEN': (0, 0, 0), 'CHI': (0, 0, 17), 'IOA': (0, 0, 0), 'AUT': (3, 1, 0), 'INA': (2, 4, 2), 'BAH': (6, 0, 5), 'SMR': (0, 0, 0), 'MOZ': (1, 0, 0), 'POR': (0, 0, 2), 'CZE': (2, 3, 4), 'IND': (0, 0, 1), 'BUL': (5, 6, 2), 'SUI': (1, 11, 2), 'BEL': (0, 3, 4), 'MLT': (0, 0, 0), 'LUX': (0, 0, 0), 'GBS': (0, 0, 0), 'TUN': (\n",
        "            0, 0, 0), 'GEO': (0, 0, 6), 'ERI': (0, 0, 0), 'TKM': (0, 0, 0), 'MAD': (0, 0, 0), 'MRI': (0, 0, 0), 'EST': (1, 0, 2), 'ISR': (0, 0, 1), 'ARM': (0, 0, 1), 'KEN': (2, 3, 2), 'MGL': (0, 0, 0), 'KOR': (12, 26, 35), 'GUI': (0, 0, 0), 'CGO': (0, 0, 0), 'POL': (7, 10, 7), 'VIN': (0, 0, 0), 'TOG': (0, 0, 0), 'ECU': (0, 0, 0), 'SEY': (0, 0, 0), 'URU': (0, 1, 0), 'GEQ': (0, 0, 0), 'ANT': (0, 0, 0), 'BOT': (0, 0, 0), 'SKN': (0, 0, 0), 'PAN': (0, 0, 0), 'COM': (0, 0, 0), 'TAN': (0, 0, 0), 'COL': (1, 0, 0), 'ISV': (0, 0, 0), 'SLE': (0, 0, 0), 'LAT': (1, 1, 1), 'AND': (0, 0, 0), 'MON': (0, 0, 0), 'SWZ': (0, 0, 0), 'ARU': (0, 0, 0), 'MDA': (0, 1, 1), 'ZIM': (0, 0, 0), 'CRC': (0, 0, 2), 'GUA': (0, 0, 0), 'NEP': (0, 0, 0), 'PNG': (0, 0, 0), 'MKD': (0, 0, 1), 'GAB': (0, 0, 0), 'SGP': (0, 0, 0), 'IRL': (0, 1, 0), 'PHI': (0, 0, 0), 'BER': (0, 0, 0), 'PUR': (0, 0, 0), 'ZAM': (0, 0, 0), 'DOM': (0, 0, 0), 'BOL': (0, 0, 0), 'MLI': (0, 0, 0), 'PAR': (0, 0, 0), 'HON': (0, 0, 0), 'PRK': (0, 1, 3), 'HKG': (0, 0, 0), 'TPE': (0, 1, 4), 'MYA': (0, 0, 0), 'MAW': (0, 0, 0), 'GUM': (0, 0, 0), 'BHU': (0, 0, 0), 'THA': (1, 0, 2), 'SEN': (0, 0, 0), 'HAI': (0, 0, 0), 'IVB': (0, 0, 0), 'CAF': (0, 0, 0), 'LBR': (0, 0, 0), 'NCA': (0, 0, 0), 'BEN': (0, 0, 0), 'AHO': (0, 0, 0), 'MTN': (0, 0, 0), 'ESA': (0, 0, 0), 'CPV': (0, 0, 0), 'TJK': (0, 0, 0), 'BIH': (0, 0, 0), 'GAM': (0, 0, 0), 'LIE': (0, 0, 0), 'NAM': (0, 0, 0), 'RWA': (0, 0, 0), 'STP': (0, 0, 0), 'BDI': (0, 0, 0), 'CAM': (0, 0, 0), 'LCA': (0, 0, 0), 'SOL': (0, 0, 0), 'GRN': (0, 0, 0), 'SAM': (0, 0, 0), 'BIZ': (0, 0, 0), 'COD': (0, 0, 0), 'VAN': (0, 0, 0), 'LES': (0, 0, 0), 'LAO': (0, 0, 0), 'TGA': (0, 0, 0), 'ALB': (0, 0, 0), 'VIE': (0, 1, 0), 'CAY': (0, 0, 0), 'FSM': (0, 0, 0), 'ASA': (0, 0, 0), 'CHA': (0, 0, 0), 'FIJ': (0, 0, 0), 'BUR': (0, 0, 0), 'NRU': (0, 0, 0), 'COK': (0, 0, 0)},\n",
        "        end='\\n\\n'\n",
        "    )\n",
        "\n",
        "\n",
        "def test_get_top_five():\n",
        "    d = convert_to_dict(data)\n",
        "    m = get_medals_by_team(d, '2000')\n",
        "    print(get_top_five(m))\n",
        "\n",
        "    d_mock = convert_to_dict(data_mock)\n",
        "    m_mock = get_medals_by_team(d_mock, '2010')\n",
        "    print(get_top_five(m_mock))\n",
        "    print(\n",
        "        '#3 ',\n",
        "        get_top_five(m) == [('USA', 130, 61, 51), ('RUS', 66, 67, 54),\n",
        "                            ('AUS', 60, 69, 54), ('CHN', 39, 23, 17), ('GER', 31, 23, 64)],\n",
        "        get_top_five(m_mock) == [('USA', 10, 0, 0), ('GER', 2, 0, 0), ('ESP', 0, 5, 0), (\n",
        "            'FRA', 0, 5, 0), ('EGY', 0, 1, 2), ('ITA', 0, 1, 2), ('NCA', 0, 1, 2)],\n",
        "        end='\\n\\n'\n",
        "    )\n",
        "\n",
        "\n",
        "def test_get_medals_trend():\n",
        "    d = convert_to_dict(data)\n",
        "    print('USA')\n",
        "    print(get_medals_trend(d, 'USA', 2001, 2015))\n",
        "    print('THA')\n",
        "    print(get_medals_trend(d, 'THA', 2000, 2016))\n",
        "    print(\n",
        "        '#4 ',\n",
        "        get_medals_trend(d, 'USA', 2001, 2015) == [('2002', 11, 58, 15), ('2004', 117, 75, 71), ('2006', 9, 11, 32), (\n",
        "            '2008', 127, 110, 80), ('2010', 12, 63, 22), ('2012', 145, 57, 46), ('2014', 10, 30, 24)],\n",
        "        get_medals_trend(d, 'THA', 2000, 2016) == [('2000', 1, 0, 2), ('2002', 0, 0, 0), ('2004', 3, 1, 4), (\n",
        "            '2006', 0, 0, 0), ('2008', 2, 2, 0), ('2012', 0, 2, 1), ('2014', 0, 0, 0), ('2016', 2, 2, 2)],\n",
        "        end='\\n\\n'\n",
        "    )\n",
        "\n",
        "\n",
        "def test_get_sports():\n",
        "    d = convert_to_dict(data)\n",
        "    print(get_sports(d, 'THA', '2000'))\n",
        "    print(get_sports(d, 'THA', '2010'))\n",
        "    print(get_sports(d, 'THA', '2020'))\n",
        "    print(get_sports(d, 'SOM', '2000'))\n",
        "    print(get_sports(d, 'THA', '2008'))\n",
        "    print(get_sports(d, 'VIE', '2008'))\n",
        "    print(get_sports(d, 'DEN', '2008'))\n",
        "    print(get_sports(d, 'XXX', '2000'))\n",
        "    print(\n",
        "        '#5 ',\n",
        "        get_sports(d, 'THA', '2000') == {'Weightlifting', 'Boxing'},\n",
        "        get_sports(d, 'THA', '2010') == set(),\n",
        "        get_sports(d, 'THA', '2020') == set(),\n",
        "        get_sports(d, 'SOM', '2000') == set(),\n",
        "        get_sports(d, 'THA', '2008') == {\n",
        "            'Weightlifting', 'Boxing', 'Taekwondo'},\n",
        "        get_sports(d, 'VIE', '2008') == {'Weightlifting'},\n",
        "        get_sports(d, 'DEN', '2008') == {\n",
        "            'Swimming', 'Equestrianism', 'Rowing', 'Sailing', 'Cycling', 'Canoeing'},\n",
        "        get_sports(d, 'XXX', '2000') == set(),\n",
        "        end='\\n\\n'\n",
        "    )\n",
        "\n",
        "\n",
        "def test_get_common_sports():\n",
        "    d = convert_to_dict(data)\n",
        "    print(get_common_sports(d, {'THA', 'VIE'}, '2008'))\n",
        "    print(get_common_sports(d, {'THA', 'VIE', 'DEN'}, '2008'))\n",
        "    print(get_common_sports(d, {'THA', 'XXX'}, '2008'))\n",
        "    print(\n",
        "        '#6 ',\n",
        "        get_common_sports(d, {'THA', 'VIE'}, '2008') == {'Weightlifting'},\n",
        "        get_common_sports(d, {'THA', 'VIE', 'DEN'}, '2008') == set(),\n",
        "        get_common_sports(d, {'THA', 'XXX'}, '2008') == set(),\n",
        "        end='\\n\\n'\n",
        "    )\n",
        "\n",
        "# test_convert_to_dict()\n",
        "# test_get_medals_by_team()\n",
        "# test_get_top_five()\n",
        "# test_get_medals_trend()\n",
        "# test_get_sports()\n",
        "# test_get_common_sports()\n"
      ]
    }
  ],
  "metadata": {
    "colab": {
      "provenance": []
    },
    "kernelspec": {
      "display_name": "Python 3",
      "name": "python3"
    },
    "language_info": {
      "name": "python"
    }
  },
  "nbformat": 4,
  "nbformat_minor": 0
}
